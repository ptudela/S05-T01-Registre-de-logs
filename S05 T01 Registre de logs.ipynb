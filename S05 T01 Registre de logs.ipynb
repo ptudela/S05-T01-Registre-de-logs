{
 "cells": [
  {
   "cell_type": "markdown",
   "id": "67d178ab",
   "metadata": {},
   "source": [
    "# S05 T01: Transformació Registre Log amb Regular expressions"
   ]
  },
  {
   "cell_type": "markdown",
   "id": "1d77e6cb",
   "metadata": {},
   "source": [
    "## Exercici 1\n",
    "## Estandaritza, identifica i enumera cada un dels atributs / variables de l'estructura de l'arxiu \"Web_access_log-akumenius.com\" que trobaràs al repositori de GitHub \"Data-sources\"."
   ]
  },
  {
   "cell_type": "code",
   "execution_count": 91,
   "id": "bc1e9d2b",
   "metadata": {},
   "outputs": [],
   "source": [
    "import numpy as np\n",
    "import pandas as pd\n",
    "import matplotlib.pyplot as plt\n",
    "from IPy import IP\n",
    "from user_agents import parse\n",
    "import requests\n",
    "import json\n",
    "from ip2geotools.databases.noncommercial import DbIpCity\n",
    "import geopandas as gpd\n",
    "import descartes"
   ]
  },
  {
   "cell_type": "code",
   "execution_count": 2,
   "id": "697eb35a",
   "metadata": {
    "scrolled": true
   },
   "outputs": [
    {
     "data": {
      "text/html": [
       "<div>\n",
       "<style scoped>\n",
       "    .dataframe tbody tr th:only-of-type {\n",
       "        vertical-align: middle;\n",
       "    }\n",
       "\n",
       "    .dataframe tbody tr th {\n",
       "        vertical-align: top;\n",
       "    }\n",
       "\n",
       "    .dataframe thead th {\n",
       "        text-align: right;\n",
       "    }\n",
       "</style>\n",
       "<table border=\"1\" class=\"dataframe\">\n",
       "  <thead>\n",
       "    <tr style=\"text-align: right;\">\n",
       "      <th></th>\n",
       "      <th>0</th>\n",
       "      <th>1</th>\n",
       "      <th>2</th>\n",
       "      <th>3</th>\n",
       "      <th>4</th>\n",
       "      <th>5</th>\n",
       "      <th>6</th>\n",
       "      <th>7</th>\n",
       "      <th>8</th>\n",
       "      <th>9</th>\n",
       "      <th>10</th>\n",
       "      <th>11</th>\n",
       "    </tr>\n",
       "  </thead>\n",
       "  <tbody>\n",
       "    <tr>\n",
       "      <th>0</th>\n",
       "      <td>localhost</td>\n",
       "      <td>127.0.0.1</td>\n",
       "      <td>-</td>\n",
       "      <td>-</td>\n",
       "      <td>[23/Feb/2014:03:10:31</td>\n",
       "      <td>+0100]</td>\n",
       "      <td>OPTIONS * HTTP/1.0</td>\n",
       "      <td>200</td>\n",
       "      <td>-</td>\n",
       "      <td>-</td>\n",
       "      <td>Apache (internal dummy connection)</td>\n",
       "      <td>VLOG=-</td>\n",
       "    </tr>\n",
       "    <tr>\n",
       "      <th>1</th>\n",
       "      <td>localhost</td>\n",
       "      <td>127.0.0.1</td>\n",
       "      <td>-</td>\n",
       "      <td>-</td>\n",
       "      <td>[23/Feb/2014:03:10:31</td>\n",
       "      <td>+0100]</td>\n",
       "      <td>OPTIONS * HTTP/1.0</td>\n",
       "      <td>200</td>\n",
       "      <td>-</td>\n",
       "      <td>-</td>\n",
       "      <td>Apache (internal dummy connection)</td>\n",
       "      <td>VLOG=-</td>\n",
       "    </tr>\n",
       "    <tr>\n",
       "      <th>2</th>\n",
       "      <td>localhost</td>\n",
       "      <td>127.0.0.1</td>\n",
       "      <td>-</td>\n",
       "      <td>-</td>\n",
       "      <td>[23/Feb/2014:03:10:31</td>\n",
       "      <td>+0100]</td>\n",
       "      <td>OPTIONS * HTTP/1.0</td>\n",
       "      <td>200</td>\n",
       "      <td>-</td>\n",
       "      <td>-</td>\n",
       "      <td>Apache (internal dummy connection)</td>\n",
       "      <td>VLOG=-</td>\n",
       "    </tr>\n",
       "    <tr>\n",
       "      <th>3</th>\n",
       "      <td>localhost</td>\n",
       "      <td>127.0.0.1</td>\n",
       "      <td>-</td>\n",
       "      <td>-</td>\n",
       "      <td>[23/Feb/2014:03:10:31</td>\n",
       "      <td>+0100]</td>\n",
       "      <td>OPTIONS * HTTP/1.0</td>\n",
       "      <td>200</td>\n",
       "      <td>-</td>\n",
       "      <td>-</td>\n",
       "      <td>Apache (internal dummy connection)</td>\n",
       "      <td>VLOG=-</td>\n",
       "    </tr>\n",
       "    <tr>\n",
       "      <th>4</th>\n",
       "      <td>localhost</td>\n",
       "      <td>127.0.0.1</td>\n",
       "      <td>-</td>\n",
       "      <td>-</td>\n",
       "      <td>[23/Feb/2014:03:10:31</td>\n",
       "      <td>+0100]</td>\n",
       "      <td>OPTIONS * HTTP/1.0</td>\n",
       "      <td>200</td>\n",
       "      <td>-</td>\n",
       "      <td>-</td>\n",
       "      <td>Apache (internal dummy connection)</td>\n",
       "      <td>VLOG=-</td>\n",
       "    </tr>\n",
       "    <tr>\n",
       "      <th>5</th>\n",
       "      <td>localhost</td>\n",
       "      <td>127.0.0.1</td>\n",
       "      <td>-</td>\n",
       "      <td>-</td>\n",
       "      <td>[23/Feb/2014:03:10:31</td>\n",
       "      <td>+0100]</td>\n",
       "      <td>OPTIONS * HTTP/1.0</td>\n",
       "      <td>200</td>\n",
       "      <td>-</td>\n",
       "      <td>-</td>\n",
       "      <td>Apache (internal dummy connection)</td>\n",
       "      <td>VLOG=-</td>\n",
       "    </tr>\n",
       "    <tr>\n",
       "      <th>6</th>\n",
       "      <td>localhost</td>\n",
       "      <td>127.0.0.1</td>\n",
       "      <td>-</td>\n",
       "      <td>-</td>\n",
       "      <td>[23/Feb/2014:03:10:31</td>\n",
       "      <td>+0100]</td>\n",
       "      <td>OPTIONS * HTTP/1.0</td>\n",
       "      <td>200</td>\n",
       "      <td>-</td>\n",
       "      <td>-</td>\n",
       "      <td>Apache (internal dummy connection)</td>\n",
       "      <td>VLOG=-</td>\n",
       "    </tr>\n",
       "    <tr>\n",
       "      <th>7</th>\n",
       "      <td>localhost</td>\n",
       "      <td>127.0.0.1</td>\n",
       "      <td>-</td>\n",
       "      <td>-</td>\n",
       "      <td>[23/Feb/2014:03:10:31</td>\n",
       "      <td>+0100]</td>\n",
       "      <td>OPTIONS * HTTP/1.0</td>\n",
       "      <td>200</td>\n",
       "      <td>-</td>\n",
       "      <td>-</td>\n",
       "      <td>Apache (internal dummy connection)</td>\n",
       "      <td>VLOG=-</td>\n",
       "    </tr>\n",
       "    <tr>\n",
       "      <th>8</th>\n",
       "      <td>localhost</td>\n",
       "      <td>127.0.0.1</td>\n",
       "      <td>-</td>\n",
       "      <td>-</td>\n",
       "      <td>[23/Feb/2014:03:10:31</td>\n",
       "      <td>+0100]</td>\n",
       "      <td>OPTIONS * HTTP/1.0</td>\n",
       "      <td>200</td>\n",
       "      <td>-</td>\n",
       "      <td>-</td>\n",
       "      <td>Apache (internal dummy connection)</td>\n",
       "      <td>VLOG=-</td>\n",
       "    </tr>\n",
       "    <tr>\n",
       "      <th>9</th>\n",
       "      <td>localhost</td>\n",
       "      <td>127.0.0.1</td>\n",
       "      <td>-</td>\n",
       "      <td>-</td>\n",
       "      <td>[23/Feb/2014:03:10:31</td>\n",
       "      <td>+0100]</td>\n",
       "      <td>OPTIONS * HTTP/1.0</td>\n",
       "      <td>200</td>\n",
       "      <td>-</td>\n",
       "      <td>-</td>\n",
       "      <td>Apache (internal dummy connection)</td>\n",
       "      <td>VLOG=-</td>\n",
       "    </tr>\n",
       "  </tbody>\n",
       "</table>\n",
       "</div>"
      ],
      "text/plain": [
       "          0          1  2  3                      4       5   \\\n",
       "0  localhost  127.0.0.1  -  -  [23/Feb/2014:03:10:31  +0100]   \n",
       "1  localhost  127.0.0.1  -  -  [23/Feb/2014:03:10:31  +0100]   \n",
       "2  localhost  127.0.0.1  -  -  [23/Feb/2014:03:10:31  +0100]   \n",
       "3  localhost  127.0.0.1  -  -  [23/Feb/2014:03:10:31  +0100]   \n",
       "4  localhost  127.0.0.1  -  -  [23/Feb/2014:03:10:31  +0100]   \n",
       "5  localhost  127.0.0.1  -  -  [23/Feb/2014:03:10:31  +0100]   \n",
       "6  localhost  127.0.0.1  -  -  [23/Feb/2014:03:10:31  +0100]   \n",
       "7  localhost  127.0.0.1  -  -  [23/Feb/2014:03:10:31  +0100]   \n",
       "8  localhost  127.0.0.1  -  -  [23/Feb/2014:03:10:31  +0100]   \n",
       "9  localhost  127.0.0.1  -  -  [23/Feb/2014:03:10:31  +0100]   \n",
       "\n",
       "                   6    7  8  9                                   10      11  \n",
       "0  OPTIONS * HTTP/1.0  200  -  -  Apache (internal dummy connection)  VLOG=-  \n",
       "1  OPTIONS * HTTP/1.0  200  -  -  Apache (internal dummy connection)  VLOG=-  \n",
       "2  OPTIONS * HTTP/1.0  200  -  -  Apache (internal dummy connection)  VLOG=-  \n",
       "3  OPTIONS * HTTP/1.0  200  -  -  Apache (internal dummy connection)  VLOG=-  \n",
       "4  OPTIONS * HTTP/1.0  200  -  -  Apache (internal dummy connection)  VLOG=-  \n",
       "5  OPTIONS * HTTP/1.0  200  -  -  Apache (internal dummy connection)  VLOG=-  \n",
       "6  OPTIONS * HTTP/1.0  200  -  -  Apache (internal dummy connection)  VLOG=-  \n",
       "7  OPTIONS * HTTP/1.0  200  -  -  Apache (internal dummy connection)  VLOG=-  \n",
       "8  OPTIONS * HTTP/1.0  200  -  -  Apache (internal dummy connection)  VLOG=-  \n",
       "9  OPTIONS * HTTP/1.0  200  -  -  Apache (internal dummy connection)  VLOG=-  "
      ]
     },
     "execution_count": 2,
     "metadata": {},
     "output_type": "execute_result"
    }
   ],
   "source": [
    "# leer el archivo txt\n",
    "logdoc = pd.read_csv(\"Data-sources\\Web_access_log-akumenius.com.txt\", header=None, error_bad_lines=False, warn_bad_lines=False,\n",
    "                     engine=\"python\", sep = ' ')\n",
    "logdoc.head(10)"
   ]
  },
  {
   "cell_type": "code",
   "execution_count": 3,
   "id": "c3e99a05",
   "metadata": {},
   "outputs": [
    {
     "data": {
      "text/plain": [
       "Int64Index([0, 1, 2, 3, 4, 5, 6, 7, 8, 9, 10, 11], dtype='int64')"
      ]
     },
     "execution_count": 3,
     "metadata": {},
     "output_type": "execute_result"
    }
   ],
   "source": [
    "logdoc.columns"
   ]
  },
  {
   "cell_type": "code",
   "execution_count": 4,
   "id": "506f4fd5",
   "metadata": {},
   "outputs": [
    {
     "data": {
      "text/plain": [
       "Index(['host', 'ip', 'borrar1', 'borrar2', 'date', 'zone', 'request', 'status',\n",
       "       'borrar3', 'borrar4', 'user_agent', 'log'],\n",
       "      dtype='object')"
      ]
     },
     "execution_count": 4,
     "metadata": {},
     "output_type": "execute_result"
    }
   ],
   "source": [
    "logdoc.columns=[\"host\",\"ip\",\"borrar1\", \"borrar2\",\"date\",\"zone\",\"request\",\"status\",\"borrar3\",\"borrar4\",\"user_agent\", \"log\"]  \n",
    "#ponemos nombres a las columnas\n",
    "logdoc.columns"
   ]
  },
  {
   "cell_type": "code",
   "execution_count": 5,
   "id": "2e18f79c",
   "metadata": {},
   "outputs": [
    {
     "data": {
      "text/html": [
       "<div>\n",
       "<style scoped>\n",
       "    .dataframe tbody tr th:only-of-type {\n",
       "        vertical-align: middle;\n",
       "    }\n",
       "\n",
       "    .dataframe tbody tr th {\n",
       "        vertical-align: top;\n",
       "    }\n",
       "\n",
       "    .dataframe thead th {\n",
       "        text-align: right;\n",
       "    }\n",
       "</style>\n",
       "<table border=\"1\" class=\"dataframe\">\n",
       "  <thead>\n",
       "    <tr style=\"text-align: right;\">\n",
       "      <th></th>\n",
       "      <th>host</th>\n",
       "      <th>ip</th>\n",
       "      <th>borrar1</th>\n",
       "      <th>borrar2</th>\n",
       "      <th>date</th>\n",
       "      <th>zone</th>\n",
       "      <th>request</th>\n",
       "      <th>status</th>\n",
       "      <th>borrar3</th>\n",
       "      <th>borrar4</th>\n",
       "      <th>user_agent</th>\n",
       "      <th>log</th>\n",
       "    </tr>\n",
       "  </thead>\n",
       "  <tbody>\n",
       "    <tr>\n",
       "      <th>0</th>\n",
       "      <td>localhost</td>\n",
       "      <td>127.0.0.1</td>\n",
       "      <td>-</td>\n",
       "      <td>-</td>\n",
       "      <td>[23/Feb/2014:03:10:31</td>\n",
       "      <td>+0100]</td>\n",
       "      <td>OPTIONS * HTTP/1.0</td>\n",
       "      <td>200</td>\n",
       "      <td>-</td>\n",
       "      <td>-</td>\n",
       "      <td>Apache (internal dummy connection)</td>\n",
       "      <td>VLOG=-</td>\n",
       "    </tr>\n",
       "    <tr>\n",
       "      <th>1</th>\n",
       "      <td>localhost</td>\n",
       "      <td>127.0.0.1</td>\n",
       "      <td>-</td>\n",
       "      <td>-</td>\n",
       "      <td>[23/Feb/2014:03:10:31</td>\n",
       "      <td>+0100]</td>\n",
       "      <td>OPTIONS * HTTP/1.0</td>\n",
       "      <td>200</td>\n",
       "      <td>-</td>\n",
       "      <td>-</td>\n",
       "      <td>Apache (internal dummy connection)</td>\n",
       "      <td>VLOG=-</td>\n",
       "    </tr>\n",
       "    <tr>\n",
       "      <th>2</th>\n",
       "      <td>localhost</td>\n",
       "      <td>127.0.0.1</td>\n",
       "      <td>-</td>\n",
       "      <td>-</td>\n",
       "      <td>[23/Feb/2014:03:10:31</td>\n",
       "      <td>+0100]</td>\n",
       "      <td>OPTIONS * HTTP/1.0</td>\n",
       "      <td>200</td>\n",
       "      <td>-</td>\n",
       "      <td>-</td>\n",
       "      <td>Apache (internal dummy connection)</td>\n",
       "      <td>VLOG=-</td>\n",
       "    </tr>\n",
       "    <tr>\n",
       "      <th>3</th>\n",
       "      <td>localhost</td>\n",
       "      <td>127.0.0.1</td>\n",
       "      <td>-</td>\n",
       "      <td>-</td>\n",
       "      <td>[23/Feb/2014:03:10:31</td>\n",
       "      <td>+0100]</td>\n",
       "      <td>OPTIONS * HTTP/1.0</td>\n",
       "      <td>200</td>\n",
       "      <td>-</td>\n",
       "      <td>-</td>\n",
       "      <td>Apache (internal dummy connection)</td>\n",
       "      <td>VLOG=-</td>\n",
       "    </tr>\n",
       "    <tr>\n",
       "      <th>4</th>\n",
       "      <td>localhost</td>\n",
       "      <td>127.0.0.1</td>\n",
       "      <td>-</td>\n",
       "      <td>-</td>\n",
       "      <td>[23/Feb/2014:03:10:31</td>\n",
       "      <td>+0100]</td>\n",
       "      <td>OPTIONS * HTTP/1.0</td>\n",
       "      <td>200</td>\n",
       "      <td>-</td>\n",
       "      <td>-</td>\n",
       "      <td>Apache (internal dummy connection)</td>\n",
       "      <td>VLOG=-</td>\n",
       "    </tr>\n",
       "  </tbody>\n",
       "</table>\n",
       "</div>"
      ],
      "text/plain": [
       "        host         ip borrar1 borrar2                   date    zone  \\\n",
       "0  localhost  127.0.0.1       -       -  [23/Feb/2014:03:10:31  +0100]   \n",
       "1  localhost  127.0.0.1       -       -  [23/Feb/2014:03:10:31  +0100]   \n",
       "2  localhost  127.0.0.1       -       -  [23/Feb/2014:03:10:31  +0100]   \n",
       "3  localhost  127.0.0.1       -       -  [23/Feb/2014:03:10:31  +0100]   \n",
       "4  localhost  127.0.0.1       -       -  [23/Feb/2014:03:10:31  +0100]   \n",
       "\n",
       "              request  status borrar3 borrar4  \\\n",
       "0  OPTIONS * HTTP/1.0     200       -       -   \n",
       "1  OPTIONS * HTTP/1.0     200       -       -   \n",
       "2  OPTIONS * HTTP/1.0     200       -       -   \n",
       "3  OPTIONS * HTTP/1.0     200       -       -   \n",
       "4  OPTIONS * HTTP/1.0     200       -       -   \n",
       "\n",
       "                           user_agent     log  \n",
       "0  Apache (internal dummy connection)  VLOG=-  \n",
       "1  Apache (internal dummy connection)  VLOG=-  \n",
       "2  Apache (internal dummy connection)  VLOG=-  \n",
       "3  Apache (internal dummy connection)  VLOG=-  \n",
       "4  Apache (internal dummy connection)  VLOG=-  "
      ]
     },
     "execution_count": 5,
     "metadata": {},
     "output_type": "execute_result"
    }
   ],
   "source": [
    "logdoc.head()"
   ]
  },
  {
   "cell_type": "code",
   "execution_count": 6,
   "id": "bdce9b9f",
   "metadata": {},
   "outputs": [
    {
     "data": {
      "text/plain": [
       "array(['-', '3100', '8811', ..., '18227', '39333', '19052'], dtype=object)"
      ]
     },
     "execution_count": 6,
     "metadata": {},
     "output_type": "execute_result"
    }
   ],
   "source": [
    "logdoc.borrar3.unique() \n",
    "# la columna borrar3 contiene datos que por ahora conservaré"
   ]
  },
  {
   "cell_type": "code",
   "execution_count": 7,
   "id": "bf9868d8",
   "metadata": {},
   "outputs": [
    {
     "data": {
      "text/html": [
       "<div>\n",
       "<style scoped>\n",
       "    .dataframe tbody tr th:only-of-type {\n",
       "        vertical-align: middle;\n",
       "    }\n",
       "\n",
       "    .dataframe tbody tr th {\n",
       "        vertical-align: top;\n",
       "    }\n",
       "\n",
       "    .dataframe thead th {\n",
       "        text-align: right;\n",
       "    }\n",
       "</style>\n",
       "<table border=\"1\" class=\"dataframe\">\n",
       "  <thead>\n",
       "    <tr style=\"text-align: right;\">\n",
       "      <th></th>\n",
       "      <th>host</th>\n",
       "      <th>ip</th>\n",
       "      <th>date</th>\n",
       "      <th>zone</th>\n",
       "      <th>request</th>\n",
       "      <th>status</th>\n",
       "      <th>borrar3</th>\n",
       "      <th>user_agent</th>\n",
       "      <th>log</th>\n",
       "    </tr>\n",
       "  </thead>\n",
       "  <tbody>\n",
       "    <tr>\n",
       "      <th>261866</th>\n",
       "      <td>www.akumenius.com</td>\n",
       "      <td>5.255.253.53</td>\n",
       "      <td>[02/Mar/2014:03:05:39</td>\n",
       "      <td>+0100]</td>\n",
       "      <td>GET / HTTP/1.1</td>\n",
       "      <td>200</td>\n",
       "      <td>7528</td>\n",
       "      <td>Mozilla/5.0 (compatible; YandexBot/3.0; +http:...</td>\n",
       "      <td>VLOG=-</td>\n",
       "    </tr>\n",
       "    <tr>\n",
       "      <th>261867</th>\n",
       "      <td>www.akumenius.com</td>\n",
       "      <td>74.86.158.107</td>\n",
       "      <td>[02/Mar/2014:03:09:52</td>\n",
       "      <td>+0100]</td>\n",
       "      <td>HEAD / HTTP/1.1</td>\n",
       "      <td>200</td>\n",
       "      <td>-</td>\n",
       "      <td>Mozilla/5.0+(compatible; UptimeRobot/2.0; http...</td>\n",
       "      <td>VLOG=-</td>\n",
       "    </tr>\n",
       "    <tr>\n",
       "      <th>261868</th>\n",
       "      <td>localhost</td>\n",
       "      <td>127.0.0.1</td>\n",
       "      <td>[02/Mar/2014:03:10:18</td>\n",
       "      <td>+0100]</td>\n",
       "      <td>OPTIONS * HTTP/1.0</td>\n",
       "      <td>200</td>\n",
       "      <td>-</td>\n",
       "      <td>Apache (internal dummy connection)</td>\n",
       "      <td>VLOG=-</td>\n",
       "    </tr>\n",
       "    <tr>\n",
       "      <th>261869</th>\n",
       "      <td>localhost</td>\n",
       "      <td>127.0.0.1</td>\n",
       "      <td>[02/Mar/2014:03:10:18</td>\n",
       "      <td>+0100]</td>\n",
       "      <td>OPTIONS * HTTP/1.0</td>\n",
       "      <td>200</td>\n",
       "      <td>-</td>\n",
       "      <td>Apache (internal dummy connection)</td>\n",
       "      <td>VLOG=-</td>\n",
       "    </tr>\n",
       "    <tr>\n",
       "      <th>261870</th>\n",
       "      <td>localhost</td>\n",
       "      <td>127.0.0.1</td>\n",
       "      <td>[02/Mar/2014:03:10:18</td>\n",
       "      <td>+0100]</td>\n",
       "      <td>OPTIONS * HTTP/1.0</td>\n",
       "      <td>200</td>\n",
       "      <td>-</td>\n",
       "      <td>Apache (internal dummy connection)</td>\n",
       "      <td>VLOG=-</td>\n",
       "    </tr>\n",
       "  </tbody>\n",
       "</table>\n",
       "</div>"
      ],
      "text/plain": [
       "                     host             ip                   date    zone  \\\n",
       "261866  www.akumenius.com   5.255.253.53  [02/Mar/2014:03:05:39  +0100]   \n",
       "261867  www.akumenius.com  74.86.158.107  [02/Mar/2014:03:09:52  +0100]   \n",
       "261868          localhost      127.0.0.1  [02/Mar/2014:03:10:18  +0100]   \n",
       "261869          localhost      127.0.0.1  [02/Mar/2014:03:10:18  +0100]   \n",
       "261870          localhost      127.0.0.1  [02/Mar/2014:03:10:18  +0100]   \n",
       "\n",
       "                   request  status borrar3  \\\n",
       "261866      GET / HTTP/1.1     200    7528   \n",
       "261867     HEAD / HTTP/1.1     200       -   \n",
       "261868  OPTIONS * HTTP/1.0     200       -   \n",
       "261869  OPTIONS * HTTP/1.0     200       -   \n",
       "261870  OPTIONS * HTTP/1.0     200       -   \n",
       "\n",
       "                                               user_agent     log  \n",
       "261866  Mozilla/5.0 (compatible; YandexBot/3.0; +http:...  VLOG=-  \n",
       "261867  Mozilla/5.0+(compatible; UptimeRobot/2.0; http...  VLOG=-  \n",
       "261868                 Apache (internal dummy connection)  VLOG=-  \n",
       "261869                 Apache (internal dummy connection)  VLOG=-  \n",
       "261870                 Apache (internal dummy connection)  VLOG=-  "
      ]
     },
     "execution_count": 7,
     "metadata": {},
     "output_type": "execute_result"
    }
   ],
   "source": [
    "#limpiar las columnas que están vacías, 2 y 3 y 9\n",
    "log = logdoc.drop ([\"borrar1\", \"borrar2\", \"borrar4\"], axis=1)\n",
    "log.tail()"
   ]
  },
  {
   "cell_type": "code",
   "execution_count": 8,
   "id": "8b7b09ba",
   "metadata": {},
   "outputs": [
    {
     "data": {
      "text/html": [
       "<div>\n",
       "<style scoped>\n",
       "    .dataframe tbody tr th:only-of-type {\n",
       "        vertical-align: middle;\n",
       "    }\n",
       "\n",
       "    .dataframe tbody tr th {\n",
       "        vertical-align: top;\n",
       "    }\n",
       "\n",
       "    .dataframe thead th {\n",
       "        text-align: right;\n",
       "    }\n",
       "</style>\n",
       "<table border=\"1\" class=\"dataframe\">\n",
       "  <thead>\n",
       "    <tr style=\"text-align: right;\">\n",
       "      <th></th>\n",
       "      <th>host</th>\n",
       "      <th>ip</th>\n",
       "      <th>date</th>\n",
       "      <th>zone</th>\n",
       "      <th>request</th>\n",
       "      <th>status</th>\n",
       "      <th>borrar3</th>\n",
       "      <th>user_agent</th>\n",
       "      <th>log</th>\n",
       "    </tr>\n",
       "  </thead>\n",
       "  <tbody>\n",
       "    <tr>\n",
       "      <th>0</th>\n",
       "      <td>localhost</td>\n",
       "      <td>127.0.0.1</td>\n",
       "      <td>23/Feb/2014:03:10:31</td>\n",
       "      <td>+0100</td>\n",
       "      <td>OPTIONS * HTTP/1.0</td>\n",
       "      <td>200</td>\n",
       "      <td>-</td>\n",
       "      <td>Apache (internal dummy connection)</td>\n",
       "      <td>VLOG=-</td>\n",
       "    </tr>\n",
       "    <tr>\n",
       "      <th>1</th>\n",
       "      <td>localhost</td>\n",
       "      <td>127.0.0.1</td>\n",
       "      <td>23/Feb/2014:03:10:31</td>\n",
       "      <td>+0100</td>\n",
       "      <td>OPTIONS * HTTP/1.0</td>\n",
       "      <td>200</td>\n",
       "      <td>-</td>\n",
       "      <td>Apache (internal dummy connection)</td>\n",
       "      <td>VLOG=-</td>\n",
       "    </tr>\n",
       "    <tr>\n",
       "      <th>2</th>\n",
       "      <td>localhost</td>\n",
       "      <td>127.0.0.1</td>\n",
       "      <td>23/Feb/2014:03:10:31</td>\n",
       "      <td>+0100</td>\n",
       "      <td>OPTIONS * HTTP/1.0</td>\n",
       "      <td>200</td>\n",
       "      <td>-</td>\n",
       "      <td>Apache (internal dummy connection)</td>\n",
       "      <td>VLOG=-</td>\n",
       "    </tr>\n",
       "    <tr>\n",
       "      <th>3</th>\n",
       "      <td>localhost</td>\n",
       "      <td>127.0.0.1</td>\n",
       "      <td>23/Feb/2014:03:10:31</td>\n",
       "      <td>+0100</td>\n",
       "      <td>OPTIONS * HTTP/1.0</td>\n",
       "      <td>200</td>\n",
       "      <td>-</td>\n",
       "      <td>Apache (internal dummy connection)</td>\n",
       "      <td>VLOG=-</td>\n",
       "    </tr>\n",
       "    <tr>\n",
       "      <th>4</th>\n",
       "      <td>localhost</td>\n",
       "      <td>127.0.0.1</td>\n",
       "      <td>23/Feb/2014:03:10:31</td>\n",
       "      <td>+0100</td>\n",
       "      <td>OPTIONS * HTTP/1.0</td>\n",
       "      <td>200</td>\n",
       "      <td>-</td>\n",
       "      <td>Apache (internal dummy connection)</td>\n",
       "      <td>VLOG=-</td>\n",
       "    </tr>\n",
       "  </tbody>\n",
       "</table>\n",
       "</div>"
      ],
      "text/plain": [
       "        host         ip                  date   zone             request  \\\n",
       "0  localhost  127.0.0.1  23/Feb/2014:03:10:31  +0100  OPTIONS * HTTP/1.0   \n",
       "1  localhost  127.0.0.1  23/Feb/2014:03:10:31  +0100  OPTIONS * HTTP/1.0   \n",
       "2  localhost  127.0.0.1  23/Feb/2014:03:10:31  +0100  OPTIONS * HTTP/1.0   \n",
       "3  localhost  127.0.0.1  23/Feb/2014:03:10:31  +0100  OPTIONS * HTTP/1.0   \n",
       "4  localhost  127.0.0.1  23/Feb/2014:03:10:31  +0100  OPTIONS * HTTP/1.0   \n",
       "\n",
       "   status borrar3                          user_agent     log  \n",
       "0     200       -  Apache (internal dummy connection)  VLOG=-  \n",
       "1     200       -  Apache (internal dummy connection)  VLOG=-  \n",
       "2     200       -  Apache (internal dummy connection)  VLOG=-  \n",
       "3     200       -  Apache (internal dummy connection)  VLOG=-  \n",
       "4     200       -  Apache (internal dummy connection)  VLOG=-  "
      ]
     },
     "execution_count": 8,
     "metadata": {},
     "output_type": "execute_result"
    }
   ],
   "source": [
    "# eliminamos los [] de las columnas date y zone\n",
    "\n",
    "log['date'] = log.date.str.replace(r'[', '',regex=True)\n",
    "log['zone'] = log.zone.str.replace(r']', '',regex=True)\n",
    "log.head()"
   ]
  },
  {
   "cell_type": "code",
   "execution_count": 9,
   "id": "e5164fcf",
   "metadata": {},
   "outputs": [
    {
     "data": {
      "text/plain": [
       "(261871, 9)"
      ]
     },
     "execution_count": 9,
     "metadata": {},
     "output_type": "execute_result"
    }
   ],
   "source": [
    "log.shape"
   ]
  },
  {
   "cell_type": "markdown",
   "id": "97772746",
   "metadata": {},
   "source": [
    "### HOST\n",
    "#### Identificamos cuatro host de akumenicus y un local host."
   ]
  },
  {
   "cell_type": "code",
   "execution_count": 10,
   "id": "b2a39d00",
   "metadata": {},
   "outputs": [
    {
     "data": {
      "text/plain": [
       "array(['localhost', 'www.akumenius.com', 'akumenius.com', 'akumenius.es',\n",
       "       'test.akumenius.com'], dtype=object)"
      ]
     },
     "execution_count": 10,
     "metadata": {},
     "output_type": "execute_result"
    }
   ],
   "source": [
    "log.host.unique()"
   ]
  },
  {
   "cell_type": "code",
   "execution_count": 11,
   "id": "1aa54981",
   "metadata": {},
   "outputs": [
    {
     "data": {
      "text/plain": [
       "www.akumenius.com     232298\n",
       "test.akumenius.com     14610\n",
       "localhost              14127\n",
       "akumenius.com            742\n",
       "akumenius.es              94\n",
       "Name: host, dtype: int64"
      ]
     },
     "execution_count": 11,
     "metadata": {},
     "output_type": "execute_result"
    }
   ],
   "source": [
    "log.host.value_counts()\n"
   ]
  },
  {
   "cell_type": "code",
   "execution_count": 12,
   "id": "6c838060",
   "metadata": {},
   "outputs": [
    {
     "data": {
      "text/html": [
       "<div>\n",
       "<style scoped>\n",
       "    .dataframe tbody tr th:only-of-type {\n",
       "        vertical-align: middle;\n",
       "    }\n",
       "\n",
       "    .dataframe tbody tr th {\n",
       "        vertical-align: top;\n",
       "    }\n",
       "\n",
       "    .dataframe thead th {\n",
       "        text-align: right;\n",
       "    }\n",
       "</style>\n",
       "<table border=\"1\" class=\"dataframe\">\n",
       "  <thead>\n",
       "    <tr style=\"text-align: right;\">\n",
       "      <th></th>\n",
       "      <th>status</th>\n",
       "    </tr>\n",
       "  </thead>\n",
       "  <tbody>\n",
       "    <tr>\n",
       "      <th>count</th>\n",
       "      <td>261871.00</td>\n",
       "    </tr>\n",
       "    <tr>\n",
       "      <th>mean</th>\n",
       "      <td>217.40</td>\n",
       "    </tr>\n",
       "    <tr>\n",
       "      <th>std</th>\n",
       "      <td>46.99</td>\n",
       "    </tr>\n",
       "    <tr>\n",
       "      <th>min</th>\n",
       "      <td>200.00</td>\n",
       "    </tr>\n",
       "    <tr>\n",
       "      <th>25%</th>\n",
       "      <td>200.00</td>\n",
       "    </tr>\n",
       "    <tr>\n",
       "      <th>50%</th>\n",
       "      <td>200.00</td>\n",
       "    </tr>\n",
       "    <tr>\n",
       "      <th>75%</th>\n",
       "      <td>200.00</td>\n",
       "    </tr>\n",
       "    <tr>\n",
       "      <th>max</th>\n",
       "      <td>502.00</td>\n",
       "    </tr>\n",
       "  </tbody>\n",
       "</table>\n",
       "</div>"
      ],
      "text/plain": [
       "          status\n",
       "count  261871.00\n",
       "mean      217.40\n",
       "std        46.99\n",
       "min       200.00\n",
       "25%       200.00\n",
       "50%       200.00\n",
       "75%       200.00\n",
       "max       502.00"
      ]
     },
     "execution_count": 12,
     "metadata": {},
     "output_type": "execute_result"
    }
   ],
   "source": [
    "log.describe().round (2)"
   ]
  },
  {
   "cell_type": "markdown",
   "id": "3a1081f2",
   "metadata": {},
   "source": [
    "### IP\n",
    "#### IP (Internet Protocol) del usuario"
   ]
  },
  {
   "cell_type": "code",
   "execution_count": 13,
   "id": "24405c91",
   "metadata": {},
   "outputs": [
    {
     "data": {
      "text/plain": [
       "array(['127.0.0.1', '66.249.76.216', '5.255.253.53', ...,\n",
       "       '217.174.248.179', '188.135.173.80', '206.198.5.33'], dtype=object)"
      ]
     },
     "execution_count": 13,
     "metadata": {},
     "output_type": "execute_result"
    }
   ],
   "source": [
    "log.ip.unique()"
   ]
  },
  {
   "cell_type": "markdown",
   "id": "59ed2af8",
   "metadata": {},
   "source": [
    "### Status\n",
    "#### Los  códigos de estado de respuesta HTTP indican si se ha completado satisfactoriamente una solicitud HTTP específica. Las respuestas se agrupan en cinco clases:\n",
    "\n",
    "- Respuestas informativas (100–199),\n",
    "- Respuestas satisfactorias (200–299),\n",
    "- Redirecciones (300–399),\n",
    "- Errores de los clientes (400–499),\n",
    "- y errores de los servidores (500–599).\n",
    "\n",
    "#### Encontrado en: https://developer.mozilla.org/es/docs/Web/HTTP/Status\n",
    "\n",
    "#### la mayoría de las búsquedas se han tenido respuesta satisfactoria o bien se han redireccionado"
   ]
  },
  {
   "cell_type": "code",
   "execution_count": 14,
   "id": "4c523d7c",
   "metadata": {},
   "outputs": [
    {
     "data": {
      "text/plain": [
       "200    226380\n",
       "304     25269\n",
       "404      8630\n",
       "301       870\n",
       "206       304\n",
       "403       194\n",
       "302       109\n",
       "502        44\n",
       "408        37\n",
       "400        26\n",
       "401         5\n",
       "500         3\n",
       "Name: status, dtype: int64"
      ]
     },
     "execution_count": 14,
     "metadata": {},
     "output_type": "execute_result"
    }
   ],
   "source": [
    "log.status.value_counts()"
   ]
  },
  {
   "cell_type": "markdown",
   "id": "13284df7",
   "metadata": {},
   "source": [
    "### ZONE"
   ]
  },
  {
   "cell_type": "code",
   "execution_count": 15,
   "id": "67f282e6",
   "metadata": {},
   "outputs": [
    {
     "data": {
      "text/plain": [
       "+0100    261871\n",
       "Name: zone, dtype: int64"
      ]
     },
     "execution_count": 15,
     "metadata": {},
     "output_type": "execute_result"
    }
   ],
   "source": [
    "log.zone.value_counts()"
   ]
  },
  {
   "cell_type": "markdown",
   "id": "1dd03fba",
   "metadata": {},
   "source": [
    "### Request"
   ]
  },
  {
   "cell_type": "code",
   "execution_count": 16,
   "id": "53cd7633",
   "metadata": {},
   "outputs": [
    {
     "data": {
      "text/plain": [
       "array(['OPTIONS * HTTP/1.0',\n",
       "       'GET /hoteles-baratos/ofertas-hotel-Club-&-Hotel-Letoonia--en-Fethiye-8460b-destinos.html HTTP/1.1',\n",
       "       'GET /hoteles-baratos/ofertas-hotel-Metropolis-Hotel-en-Kaunas-210244b-destinos.html HTTP/1.1',\n",
       "       ...,\n",
       "       'GET /destinosCaracteristicas/hoteles-baratos-en-Milan_ITALIA-con-Lavander%C3%83%C2%ADa HTTP/1.1',\n",
       "       'GET /escapadas/escapada-especial-carnaval-hotel-intur-orange-9d6bb97f63e2ccde99d568a822c355fc.html HTTP/1.1',\n",
       "       'GET /destinos-caracteristicas/hoteles-baratos-en-Baiona_ESPA%C3%91A-con-Desayuno-continental HTTP/1.1'],\n",
       "      dtype=object)"
      ]
     },
     "execution_count": 16,
     "metadata": {},
     "output_type": "execute_result"
    }
   ],
   "source": [
    "log.request.unique()"
   ]
  },
  {
   "cell_type": "markdown",
   "id": "5d5c7ab3",
   "metadata": {},
   "source": [
    "###  User agent\n",
    "#### Information about Device, Device Model, Operating System, Agent Type, Browser, Rendering Engine.\n",
    "http://my-user-agent.com/ "
   ]
  },
  {
   "cell_type": "code",
   "execution_count": 17,
   "id": "436808cd",
   "metadata": {},
   "outputs": [
    {
     "data": {
      "text/plain": [
       "array(['VLOG=-'], dtype=object)"
      ]
     },
     "execution_count": 17,
     "metadata": {},
     "output_type": "execute_result"
    }
   ],
   "source": [
    "# Request se puede separar para identificar las partes\n",
    "log.log.unique()"
   ]
  },
  {
   "cell_type": "markdown",
   "id": "2b36bb43",
   "metadata": {},
   "source": [
    "## Exercici 2\n",
    "#### Neteja, preprocesa, estructura i transforma (dataframe) les dades del registre d'Accés a la web."
   ]
  },
  {
   "cell_type": "code",
   "execution_count": 18,
   "id": "8ba14d8f",
   "metadata": {},
   "outputs": [
    {
     "data": {
      "text/html": [
       "<div>\n",
       "<style scoped>\n",
       "    .dataframe tbody tr th:only-of-type {\n",
       "        vertical-align: middle;\n",
       "    }\n",
       "\n",
       "    .dataframe tbody tr th {\n",
       "        vertical-align: top;\n",
       "    }\n",
       "\n",
       "    .dataframe thead th {\n",
       "        text-align: right;\n",
       "    }\n",
       "</style>\n",
       "<table border=\"1\" class=\"dataframe\">\n",
       "  <thead>\n",
       "    <tr style=\"text-align: right;\">\n",
       "      <th></th>\n",
       "      <th>host</th>\n",
       "      <th>ip</th>\n",
       "      <th>date</th>\n",
       "      <th>zone</th>\n",
       "      <th>request</th>\n",
       "      <th>status</th>\n",
       "      <th>borrar3</th>\n",
       "      <th>user_agent</th>\n",
       "      <th>log</th>\n",
       "      <th>date2</th>\n",
       "    </tr>\n",
       "  </thead>\n",
       "  <tbody>\n",
       "    <tr>\n",
       "      <th>0</th>\n",
       "      <td>localhost</td>\n",
       "      <td>127.0.0.1</td>\n",
       "      <td>23/Feb/2014:03:10:31</td>\n",
       "      <td>+0100</td>\n",
       "      <td>OPTIONS * HTTP/1.0</td>\n",
       "      <td>200</td>\n",
       "      <td>-</td>\n",
       "      <td>Apache (internal dummy connection)</td>\n",
       "      <td>VLOG=-</td>\n",
       "      <td>2014-02-23 03:10:31</td>\n",
       "    </tr>\n",
       "    <tr>\n",
       "      <th>1</th>\n",
       "      <td>localhost</td>\n",
       "      <td>127.0.0.1</td>\n",
       "      <td>23/Feb/2014:03:10:31</td>\n",
       "      <td>+0100</td>\n",
       "      <td>OPTIONS * HTTP/1.0</td>\n",
       "      <td>200</td>\n",
       "      <td>-</td>\n",
       "      <td>Apache (internal dummy connection)</td>\n",
       "      <td>VLOG=-</td>\n",
       "      <td>2014-02-23 03:10:31</td>\n",
       "    </tr>\n",
       "    <tr>\n",
       "      <th>2</th>\n",
       "      <td>localhost</td>\n",
       "      <td>127.0.0.1</td>\n",
       "      <td>23/Feb/2014:03:10:31</td>\n",
       "      <td>+0100</td>\n",
       "      <td>OPTIONS * HTTP/1.0</td>\n",
       "      <td>200</td>\n",
       "      <td>-</td>\n",
       "      <td>Apache (internal dummy connection)</td>\n",
       "      <td>VLOG=-</td>\n",
       "      <td>2014-02-23 03:10:31</td>\n",
       "    </tr>\n",
       "    <tr>\n",
       "      <th>3</th>\n",
       "      <td>localhost</td>\n",
       "      <td>127.0.0.1</td>\n",
       "      <td>23/Feb/2014:03:10:31</td>\n",
       "      <td>+0100</td>\n",
       "      <td>OPTIONS * HTTP/1.0</td>\n",
       "      <td>200</td>\n",
       "      <td>-</td>\n",
       "      <td>Apache (internal dummy connection)</td>\n",
       "      <td>VLOG=-</td>\n",
       "      <td>2014-02-23 03:10:31</td>\n",
       "    </tr>\n",
       "    <tr>\n",
       "      <th>4</th>\n",
       "      <td>localhost</td>\n",
       "      <td>127.0.0.1</td>\n",
       "      <td>23/Feb/2014:03:10:31</td>\n",
       "      <td>+0100</td>\n",
       "      <td>OPTIONS * HTTP/1.0</td>\n",
       "      <td>200</td>\n",
       "      <td>-</td>\n",
       "      <td>Apache (internal dummy connection)</td>\n",
       "      <td>VLOG=-</td>\n",
       "      <td>2014-02-23 03:10:31</td>\n",
       "    </tr>\n",
       "  </tbody>\n",
       "</table>\n",
       "</div>"
      ],
      "text/plain": [
       "        host         ip                  date   zone             request  \\\n",
       "0  localhost  127.0.0.1  23/Feb/2014:03:10:31  +0100  OPTIONS * HTTP/1.0   \n",
       "1  localhost  127.0.0.1  23/Feb/2014:03:10:31  +0100  OPTIONS * HTTP/1.0   \n",
       "2  localhost  127.0.0.1  23/Feb/2014:03:10:31  +0100  OPTIONS * HTTP/1.0   \n",
       "3  localhost  127.0.0.1  23/Feb/2014:03:10:31  +0100  OPTIONS * HTTP/1.0   \n",
       "4  localhost  127.0.0.1  23/Feb/2014:03:10:31  +0100  OPTIONS * HTTP/1.0   \n",
       "\n",
       "   status borrar3                          user_agent     log  \\\n",
       "0     200       -  Apache (internal dummy connection)  VLOG=-   \n",
       "1     200       -  Apache (internal dummy connection)  VLOG=-   \n",
       "2     200       -  Apache (internal dummy connection)  VLOG=-   \n",
       "3     200       -  Apache (internal dummy connection)  VLOG=-   \n",
       "4     200       -  Apache (internal dummy connection)  VLOG=-   \n",
       "\n",
       "                date2  \n",
       "0 2014-02-23 03:10:31  \n",
       "1 2014-02-23 03:10:31  \n",
       "2 2014-02-23 03:10:31  \n",
       "3 2014-02-23 03:10:31  \n",
       "4 2014-02-23 03:10:31  "
      ]
     },
     "execution_count": 18,
     "metadata": {},
     "output_type": "execute_result"
    }
   ],
   "source": [
    "# modificamos el formato de la columna date a un formato objetct tipo datetime64\n",
    "log[\"date2\"] =pd.to_datetime(log[\"date\"], format=\"%d/%b/%Y:%H:%M:%S\")\n",
    "log.head() "
   ]
  },
  {
   "cell_type": "code",
   "execution_count": 19,
   "id": "1b5e7394",
   "metadata": {},
   "outputs": [
    {
     "data": {
      "text/html": [
       "<div>\n",
       "<style scoped>\n",
       "    .dataframe tbody tr th:only-of-type {\n",
       "        vertical-align: middle;\n",
       "    }\n",
       "\n",
       "    .dataframe tbody tr th {\n",
       "        vertical-align: top;\n",
       "    }\n",
       "\n",
       "    .dataframe thead th {\n",
       "        text-align: right;\n",
       "    }\n",
       "</style>\n",
       "<table border=\"1\" class=\"dataframe\">\n",
       "  <thead>\n",
       "    <tr style=\"text-align: right;\">\n",
       "      <th></th>\n",
       "      <th>host</th>\n",
       "      <th>ip</th>\n",
       "      <th>zone</th>\n",
       "      <th>request</th>\n",
       "      <th>status</th>\n",
       "      <th>borrar3</th>\n",
       "      <th>user_agent</th>\n",
       "      <th>log</th>\n",
       "      <th>date2</th>\n",
       "    </tr>\n",
       "  </thead>\n",
       "  <tbody>\n",
       "    <tr>\n",
       "      <th>0</th>\n",
       "      <td>localhost</td>\n",
       "      <td>127.0.0.1</td>\n",
       "      <td>+0100</td>\n",
       "      <td>OPTIONS * HTTP/1.0</td>\n",
       "      <td>200</td>\n",
       "      <td>-</td>\n",
       "      <td>Apache (internal dummy connection)</td>\n",
       "      <td>VLOG=-</td>\n",
       "      <td>2014-02-23 03:10:31</td>\n",
       "    </tr>\n",
       "    <tr>\n",
       "      <th>1</th>\n",
       "      <td>localhost</td>\n",
       "      <td>127.0.0.1</td>\n",
       "      <td>+0100</td>\n",
       "      <td>OPTIONS * HTTP/1.0</td>\n",
       "      <td>200</td>\n",
       "      <td>-</td>\n",
       "      <td>Apache (internal dummy connection)</td>\n",
       "      <td>VLOG=-</td>\n",
       "      <td>2014-02-23 03:10:31</td>\n",
       "    </tr>\n",
       "    <tr>\n",
       "      <th>2</th>\n",
       "      <td>localhost</td>\n",
       "      <td>127.0.0.1</td>\n",
       "      <td>+0100</td>\n",
       "      <td>OPTIONS * HTTP/1.0</td>\n",
       "      <td>200</td>\n",
       "      <td>-</td>\n",
       "      <td>Apache (internal dummy connection)</td>\n",
       "      <td>VLOG=-</td>\n",
       "      <td>2014-02-23 03:10:31</td>\n",
       "    </tr>\n",
       "    <tr>\n",
       "      <th>3</th>\n",
       "      <td>localhost</td>\n",
       "      <td>127.0.0.1</td>\n",
       "      <td>+0100</td>\n",
       "      <td>OPTIONS * HTTP/1.0</td>\n",
       "      <td>200</td>\n",
       "      <td>-</td>\n",
       "      <td>Apache (internal dummy connection)</td>\n",
       "      <td>VLOG=-</td>\n",
       "      <td>2014-02-23 03:10:31</td>\n",
       "    </tr>\n",
       "    <tr>\n",
       "      <th>4</th>\n",
       "      <td>localhost</td>\n",
       "      <td>127.0.0.1</td>\n",
       "      <td>+0100</td>\n",
       "      <td>OPTIONS * HTTP/1.0</td>\n",
       "      <td>200</td>\n",
       "      <td>-</td>\n",
       "      <td>Apache (internal dummy connection)</td>\n",
       "      <td>VLOG=-</td>\n",
       "      <td>2014-02-23 03:10:31</td>\n",
       "    </tr>\n",
       "  </tbody>\n",
       "</table>\n",
       "</div>"
      ],
      "text/plain": [
       "        host         ip   zone             request  status borrar3  \\\n",
       "0  localhost  127.0.0.1  +0100  OPTIONS * HTTP/1.0     200       -   \n",
       "1  localhost  127.0.0.1  +0100  OPTIONS * HTTP/1.0     200       -   \n",
       "2  localhost  127.0.0.1  +0100  OPTIONS * HTTP/1.0     200       -   \n",
       "3  localhost  127.0.0.1  +0100  OPTIONS * HTTP/1.0     200       -   \n",
       "4  localhost  127.0.0.1  +0100  OPTIONS * HTTP/1.0     200       -   \n",
       "\n",
       "                           user_agent     log               date2  \n",
       "0  Apache (internal dummy connection)  VLOG=- 2014-02-23 03:10:31  \n",
       "1  Apache (internal dummy connection)  VLOG=- 2014-02-23 03:10:31  \n",
       "2  Apache (internal dummy connection)  VLOG=- 2014-02-23 03:10:31  \n",
       "3  Apache (internal dummy connection)  VLOG=- 2014-02-23 03:10:31  \n",
       "4  Apache (internal dummy connection)  VLOG=- 2014-02-23 03:10:31  "
      ]
     },
     "execution_count": 19,
     "metadata": {},
     "output_type": "execute_result"
    }
   ],
   "source": [
    "# eliminamos la columan date\n",
    "log.drop([\"date\"], inplace=True, axis=1)\n",
    "log.head()"
   ]
  },
  {
   "cell_type": "code",
   "execution_count": 20,
   "id": "682fa310",
   "metadata": {},
   "outputs": [
    {
     "name": "stdout",
     "output_type": "stream",
     "text": [
      "<class 'pandas.core.frame.DataFrame'>\n",
      "RangeIndex: 261871 entries, 0 to 261870\n",
      "Data columns (total 9 columns):\n",
      " #   Column      Non-Null Count   Dtype         \n",
      "---  ------      --------------   -----         \n",
      " 0   host        261871 non-null  object        \n",
      " 1   ip          261871 non-null  object        \n",
      " 2   zone        261871 non-null  object        \n",
      " 3   request     261871 non-null  object        \n",
      " 4   status      261871 non-null  int64         \n",
      " 5   borrar3     261871 non-null  object        \n",
      " 6   user_agent  261871 non-null  object        \n",
      " 7   log         261871 non-null  object        \n",
      " 8   date2       261871 non-null  datetime64[ns]\n",
      "dtypes: datetime64[ns](1), int64(1), object(7)\n",
      "memory usage: 18.0+ MB\n"
     ]
    }
   ],
   "source": [
    "log.info()"
   ]
  },
  {
   "cell_type": "code",
   "execution_count": 21,
   "id": "32548666",
   "metadata": {},
   "outputs": [
    {
     "data": {
      "text/html": [
       "<div>\n",
       "<style scoped>\n",
       "    .dataframe tbody tr th:only-of-type {\n",
       "        vertical-align: middle;\n",
       "    }\n",
       "\n",
       "    .dataframe tbody tr th {\n",
       "        vertical-align: top;\n",
       "    }\n",
       "\n",
       "    .dataframe thead th {\n",
       "        text-align: right;\n",
       "    }\n",
       "</style>\n",
       "<table border=\"1\" class=\"dataframe\">\n",
       "  <thead>\n",
       "    <tr style=\"text-align: right;\">\n",
       "      <th></th>\n",
       "      <th>host</th>\n",
       "      <th>ip</th>\n",
       "      <th>zone</th>\n",
       "      <th>request</th>\n",
       "      <th>status</th>\n",
       "      <th>borrar3</th>\n",
       "      <th>user_agent</th>\n",
       "      <th>log</th>\n",
       "      <th>date2</th>\n",
       "      <th>browser</th>\n",
       "      <th>os</th>\n",
       "      <th>device</th>\n",
       "    </tr>\n",
       "  </thead>\n",
       "  <tbody>\n",
       "    <tr>\n",
       "      <th>261866</th>\n",
       "      <td>www.akumenius.com</td>\n",
       "      <td>5.255.253.53</td>\n",
       "      <td>+0100</td>\n",
       "      <td>GET / HTTP/1.1</td>\n",
       "      <td>200</td>\n",
       "      <td>7528</td>\n",
       "      <td>Mozilla/5.0 (compatible; YandexBot/3.0; +http:...</td>\n",
       "      <td>VLOG=-</td>\n",
       "      <td>2014-03-02 03:05:39</td>\n",
       "      <td>YandexBot</td>\n",
       "      <td>Other</td>\n",
       "      <td>Spider</td>\n",
       "    </tr>\n",
       "    <tr>\n",
       "      <th>261867</th>\n",
       "      <td>www.akumenius.com</td>\n",
       "      <td>74.86.158.107</td>\n",
       "      <td>+0100</td>\n",
       "      <td>HEAD / HTTP/1.1</td>\n",
       "      <td>200</td>\n",
       "      <td>-</td>\n",
       "      <td>Mozilla/5.0+(compatible; UptimeRobot/2.0; http...</td>\n",
       "      <td>VLOG=-</td>\n",
       "      <td>2014-03-02 03:09:52</td>\n",
       "      <td>UptimeRobot</td>\n",
       "      <td>Other</td>\n",
       "      <td>Spider</td>\n",
       "    </tr>\n",
       "    <tr>\n",
       "      <th>261868</th>\n",
       "      <td>localhost</td>\n",
       "      <td>127.0.0.1</td>\n",
       "      <td>+0100</td>\n",
       "      <td>OPTIONS * HTTP/1.0</td>\n",
       "      <td>200</td>\n",
       "      <td>-</td>\n",
       "      <td>Apache (internal dummy connection)</td>\n",
       "      <td>VLOG=-</td>\n",
       "      <td>2014-03-02 03:10:18</td>\n",
       "      <td>Other</td>\n",
       "      <td>Other</td>\n",
       "      <td>Other</td>\n",
       "    </tr>\n",
       "    <tr>\n",
       "      <th>261869</th>\n",
       "      <td>localhost</td>\n",
       "      <td>127.0.0.1</td>\n",
       "      <td>+0100</td>\n",
       "      <td>OPTIONS * HTTP/1.0</td>\n",
       "      <td>200</td>\n",
       "      <td>-</td>\n",
       "      <td>Apache (internal dummy connection)</td>\n",
       "      <td>VLOG=-</td>\n",
       "      <td>2014-03-02 03:10:18</td>\n",
       "      <td>Other</td>\n",
       "      <td>Other</td>\n",
       "      <td>Other</td>\n",
       "    </tr>\n",
       "    <tr>\n",
       "      <th>261870</th>\n",
       "      <td>localhost</td>\n",
       "      <td>127.0.0.1</td>\n",
       "      <td>+0100</td>\n",
       "      <td>OPTIONS * HTTP/1.0</td>\n",
       "      <td>200</td>\n",
       "      <td>-</td>\n",
       "      <td>Apache (internal dummy connection)</td>\n",
       "      <td>VLOG=-</td>\n",
       "      <td>2014-03-02 03:10:18</td>\n",
       "      <td>Other</td>\n",
       "      <td>Other</td>\n",
       "      <td>Other</td>\n",
       "    </tr>\n",
       "  </tbody>\n",
       "</table>\n",
       "</div>"
      ],
      "text/plain": [
       "                     host             ip   zone             request  status  \\\n",
       "261866  www.akumenius.com   5.255.253.53  +0100      GET / HTTP/1.1     200   \n",
       "261867  www.akumenius.com  74.86.158.107  +0100     HEAD / HTTP/1.1     200   \n",
       "261868          localhost      127.0.0.1  +0100  OPTIONS * HTTP/1.0     200   \n",
       "261869          localhost      127.0.0.1  +0100  OPTIONS * HTTP/1.0     200   \n",
       "261870          localhost      127.0.0.1  +0100  OPTIONS * HTTP/1.0     200   \n",
       "\n",
       "       borrar3                                         user_agent     log  \\\n",
       "261866    7528  Mozilla/5.0 (compatible; YandexBot/3.0; +http:...  VLOG=-   \n",
       "261867       -  Mozilla/5.0+(compatible; UptimeRobot/2.0; http...  VLOG=-   \n",
       "261868       -                 Apache (internal dummy connection)  VLOG=-   \n",
       "261869       -                 Apache (internal dummy connection)  VLOG=-   \n",
       "261870       -                 Apache (internal dummy connection)  VLOG=-   \n",
       "\n",
       "                     date2      browser     os  device  \n",
       "261866 2014-03-02 03:05:39    YandexBot  Other  Spider  \n",
       "261867 2014-03-02 03:09:52  UptimeRobot  Other  Spider  \n",
       "261868 2014-03-02 03:10:18        Other  Other   Other  \n",
       "261869 2014-03-02 03:10:18        Other  Other   Other  \n",
       "261870 2014-03-02 03:10:18        Other  Other   Other  "
      ]
     },
     "execution_count": 21,
     "metadata": {},
     "output_type": "execute_result"
    }
   ],
   "source": [
    "# Desagregamos los componentes de user_agent en tres columnas separadas\n",
    "log['browser'] = log['user_agent'].map(lambda x : parse(x).browser.family)\n",
    "log['os'] = log['user_agent'].map(lambda x : parse(x).os.family)\n",
    "log['device'] = log['user_agent'].map(lambda x : parse(x).device.family)\n",
    "log.tail()"
   ]
  },
  {
   "cell_type": "code",
   "execution_count": 22,
   "id": "b321f61a",
   "metadata": {},
   "outputs": [
    {
     "data": {
      "text/plain": [
       "array(['Other', 'Googlebot', 'YandexBot', 'bingbot', 'Firefox',\n",
       "       'AhrefsBot', 'Baiduspider', 'UptimeRobot', 'msnbot-media',\n",
       "       'BingPreview', 'Wget', 'ia_archiver', 'spbot', 'Opera', 'IE',\n",
       "       'Chrome', 'Googlebot-Mobile', 'Mobile Safari', 'Googlebot-Image',\n",
       "       'MJ12bot', 'Android', 'Google', 'Sogou web spider', 'YandexImages',\n",
       "       'Chrome Mobile', 'FacebookBot', 'Java', 'msnbot', 'Thunderbird',\n",
       "       'Baiduspider-image', 'BLEXBot', 'BlackBerry WebKit', 'curl',\n",
       "       'favicon', 'EasouSpider', 'MobileSafari', 'Chrome Mobile iOS',\n",
       "       'Mobile Safari UI/WKWebView', 'Safari', 'CareerBot',\n",
       "       'Firefox Mobile', 'URLAppendBot', 'Exabot', 'socialbm_bot',\n",
       "       'Chrome Frame', 'Mercury', 'GmailImageProxy', 'Genieo',\n",
       "       'Chrome Mobile WebView', 'Maxthon', 'Outlook', 'SISTRIX Crawler',\n",
       "       'Crawler', 'Chromium', 'UC Browser', 'archive.org_bot',\n",
       "       'Opera Mini', 'AdsBot-Google', 'Xenu Link Sleuth', 'SeznamBot',\n",
       "       'IE Mobile', 'Twitterbot', 'Yahoo! Slurp',\n",
       "       'Google-HTTP-Java-Client', 'NING', 'TweetmemeBot', 'rogerbot',\n",
       "       'PaperLiBot', 'com Crawler', 'Amazon Silk', 'Crazy Browser',\n",
       "       'Camino', 'spider', 'Firefox Beta', 'GrapeshotCrawler',\n",
       "       '360Spider', 'Nutch', 'meanpathbot', 'LoadTimeBot', 'CompSpyBot',\n",
       "       'Python-urllib', 'SurveyBot', 'Python Requests', 'Netscape',\n",
       "       'Opera Mobile', 'Puffin', 'Apache-HttpClient', 'oBot',\n",
       "       'KomodiaBot', 'niki-bot', 'Mediapartners-Google', 'SnapPreviewBot',\n",
       "       'Galeon'], dtype=object)"
      ]
     },
     "execution_count": 22,
     "metadata": {},
     "output_type": "execute_result"
    }
   ],
   "source": [
    "log.browser.unique()"
   ]
  },
  {
   "cell_type": "code",
   "execution_count": 23,
   "id": "d7fbdc5a",
   "metadata": {},
   "outputs": [
    {
     "data": {
      "text/plain": [
       "array(['Other', 'Linux', 'Windows', 'iOS', 'Mac OS X', 'Android',\n",
       "       'BlackBerry OS', 'Ubuntu', 'Fedora', 'Windows Phone', 'Red Hat'],\n",
       "      dtype=object)"
      ]
     },
     "execution_count": 23,
     "metadata": {},
     "output_type": "execute_result"
    }
   ],
   "source": [
    "log.os.unique()  # los sistemas operativos que se extrae del df"
   ]
  },
  {
   "cell_type": "code",
   "execution_count": 24,
   "id": "69486135",
   "metadata": {},
   "outputs": [
    {
     "data": {
      "text/plain": [
       "PUBLIC      247979\n",
       "LOOPBACK     13892\n",
       "Name: type, dtype: int64"
      ]
     },
     "execution_count": 24,
     "metadata": {},
     "output_type": "execute_result"
    }
   ],
   "source": [
    "# Trabajar con la columna IP\n",
    "# identificamos tipos de IP\n",
    "log[\"type\"] = log[\"ip\"].apply(lambda x: IP(x).iptype())\n",
    "log[\"type\"].value_counts()"
   ]
  },
  {
   "cell_type": "code",
   "execution_count": 25,
   "id": "fcfb4c13",
   "metadata": {},
   "outputs": [
    {
     "data": {
      "text/html": [
       "<div>\n",
       "<style scoped>\n",
       "    .dataframe tbody tr th:only-of-type {\n",
       "        vertical-align: middle;\n",
       "    }\n",
       "\n",
       "    .dataframe tbody tr th {\n",
       "        vertical-align: top;\n",
       "    }\n",
       "\n",
       "    .dataframe thead th {\n",
       "        text-align: right;\n",
       "    }\n",
       "</style>\n",
       "<table border=\"1\" class=\"dataframe\">\n",
       "  <thead>\n",
       "    <tr style=\"text-align: right;\">\n",
       "      <th></th>\n",
       "      <th>host</th>\n",
       "      <th>ip</th>\n",
       "      <th>zone</th>\n",
       "      <th>request</th>\n",
       "      <th>status</th>\n",
       "      <th>borrar3</th>\n",
       "      <th>user_agent</th>\n",
       "      <th>log</th>\n",
       "      <th>date2</th>\n",
       "      <th>browser</th>\n",
       "      <th>os</th>\n",
       "      <th>device</th>\n",
       "      <th>type</th>\n",
       "    </tr>\n",
       "  </thead>\n",
       "  <tbody>\n",
       "    <tr>\n",
       "      <th>22</th>\n",
       "      <td>www.akumenius.com</td>\n",
       "      <td>66.249.76.216</td>\n",
       "      <td>+0100</td>\n",
       "      <td>GET /hoteles-baratos/ofertas-hotel-Club-&amp;-Hote...</td>\n",
       "      <td>404</td>\n",
       "      <td>3100</td>\n",
       "      <td>Mozilla/5.0 (compatible; Googlebot/2.1; +http:...</td>\n",
       "      <td>VLOG=-</td>\n",
       "      <td>2014-02-23 03:10:31</td>\n",
       "      <td>Googlebot</td>\n",
       "      <td>Other</td>\n",
       "      <td>Spider</td>\n",
       "      <td>PUBLIC</td>\n",
       "    </tr>\n",
       "    <tr>\n",
       "      <th>23</th>\n",
       "      <td>www.akumenius.com</td>\n",
       "      <td>66.249.76.216</td>\n",
       "      <td>+0100</td>\n",
       "      <td>GET /hoteles-baratos/ofertas-hotel-Metropolis-...</td>\n",
       "      <td>404</td>\n",
       "      <td>3100</td>\n",
       "      <td>Mozilla/5.0 (compatible; Googlebot/2.1; +http:...</td>\n",
       "      <td>VLOG=-</td>\n",
       "      <td>2014-02-23 03:10:33</td>\n",
       "      <td>Googlebot</td>\n",
       "      <td>Other</td>\n",
       "      <td>Spider</td>\n",
       "      <td>PUBLIC</td>\n",
       "    </tr>\n",
       "    <tr>\n",
       "      <th>24</th>\n",
       "      <td>www.akumenius.com</td>\n",
       "      <td>66.249.76.216</td>\n",
       "      <td>+0100</td>\n",
       "      <td>GET /hoteles-baratos/ofertas-hotel-Faena-Hotel...</td>\n",
       "      <td>404</td>\n",
       "      <td>3100</td>\n",
       "      <td>Mozilla/5.0 (compatible; Googlebot/2.1; +http:...</td>\n",
       "      <td>VLOG=-</td>\n",
       "      <td>2014-02-23 03:10:35</td>\n",
       "      <td>Googlebot</td>\n",
       "      <td>Other</td>\n",
       "      <td>Spider</td>\n",
       "      <td>PUBLIC</td>\n",
       "    </tr>\n",
       "    <tr>\n",
       "      <th>25</th>\n",
       "      <td>www.akumenius.com</td>\n",
       "      <td>66.249.76.216</td>\n",
       "      <td>+0100</td>\n",
       "      <td>GET /hoteles-baratos/ofertas-hotel-Kensington-...</td>\n",
       "      <td>404</td>\n",
       "      <td>3100</td>\n",
       "      <td>Mozilla/5.0 (compatible; Googlebot/2.1; +http:...</td>\n",
       "      <td>VLOG=-</td>\n",
       "      <td>2014-02-23 03:10:38</td>\n",
       "      <td>Googlebot</td>\n",
       "      <td>Other</td>\n",
       "      <td>Spider</td>\n",
       "      <td>PUBLIC</td>\n",
       "    </tr>\n",
       "    <tr>\n",
       "      <th>26</th>\n",
       "      <td>www.akumenius.com</td>\n",
       "      <td>66.249.76.216</td>\n",
       "      <td>+0100</td>\n",
       "      <td>GET /destinos-baratos/destinosEstrelles/hotele...</td>\n",
       "      <td>200</td>\n",
       "      <td>8811</td>\n",
       "      <td>Mozilla/5.0 (compatible; Googlebot/2.1; +http:...</td>\n",
       "      <td>VLOG=-</td>\n",
       "      <td>2014-02-23 03:10:39</td>\n",
       "      <td>Googlebot</td>\n",
       "      <td>Other</td>\n",
       "      <td>Spider</td>\n",
       "      <td>PUBLIC</td>\n",
       "    </tr>\n",
       "  </tbody>\n",
       "</table>\n",
       "</div>"
      ],
      "text/plain": [
       "                 host             ip   zone  \\\n",
       "22  www.akumenius.com  66.249.76.216  +0100   \n",
       "23  www.akumenius.com  66.249.76.216  +0100   \n",
       "24  www.akumenius.com  66.249.76.216  +0100   \n",
       "25  www.akumenius.com  66.249.76.216  +0100   \n",
       "26  www.akumenius.com  66.249.76.216  +0100   \n",
       "\n",
       "                                              request  status borrar3  \\\n",
       "22  GET /hoteles-baratos/ofertas-hotel-Club-&-Hote...     404    3100   \n",
       "23  GET /hoteles-baratos/ofertas-hotel-Metropolis-...     404    3100   \n",
       "24  GET /hoteles-baratos/ofertas-hotel-Faena-Hotel...     404    3100   \n",
       "25  GET /hoteles-baratos/ofertas-hotel-Kensington-...     404    3100   \n",
       "26  GET /destinos-baratos/destinosEstrelles/hotele...     200    8811   \n",
       "\n",
       "                                           user_agent     log  \\\n",
       "22  Mozilla/5.0 (compatible; Googlebot/2.1; +http:...  VLOG=-   \n",
       "23  Mozilla/5.0 (compatible; Googlebot/2.1; +http:...  VLOG=-   \n",
       "24  Mozilla/5.0 (compatible; Googlebot/2.1; +http:...  VLOG=-   \n",
       "25  Mozilla/5.0 (compatible; Googlebot/2.1; +http:...  VLOG=-   \n",
       "26  Mozilla/5.0 (compatible; Googlebot/2.1; +http:...  VLOG=-   \n",
       "\n",
       "                 date2    browser     os  device    type  \n",
       "22 2014-02-23 03:10:31  Googlebot  Other  Spider  PUBLIC  \n",
       "23 2014-02-23 03:10:33  Googlebot  Other  Spider  PUBLIC  \n",
       "24 2014-02-23 03:10:35  Googlebot  Other  Spider  PUBLIC  \n",
       "25 2014-02-23 03:10:38  Googlebot  Other  Spider  PUBLIC  \n",
       "26 2014-02-23 03:10:39  Googlebot  Other  Spider  PUBLIC  "
      ]
     },
     "execution_count": 25,
     "metadata": {},
     "output_type": "execute_result"
    }
   ],
   "source": [
    "# 127.0.0.1 es el localhost, no lo utilizamos para el analisis\n",
    "# nos quedamos con Public host\n",
    "log_selection = log[log[\"type\"]==\"PUBLIC\"]\n",
    "log_selection.head()"
   ]
  },
  {
   "cell_type": "code",
   "execution_count": 26,
   "id": "a361d71c",
   "metadata": {},
   "outputs": [
    {
     "data": {
      "text/html": [
       "<div>\n",
       "<style scoped>\n",
       "    .dataframe tbody tr th:only-of-type {\n",
       "        vertical-align: middle;\n",
       "    }\n",
       "\n",
       "    .dataframe tbody tr th {\n",
       "        vertical-align: top;\n",
       "    }\n",
       "\n",
       "    .dataframe thead th {\n",
       "        text-align: right;\n",
       "    }\n",
       "</style>\n",
       "<table border=\"1\" class=\"dataframe\">\n",
       "  <thead>\n",
       "    <tr style=\"text-align: right;\">\n",
       "      <th></th>\n",
       "      <th>ip</th>\n",
       "    </tr>\n",
       "  </thead>\n",
       "  <tbody>\n",
       "    <tr>\n",
       "      <th>261863</th>\n",
       "      <td>5.255.253.53</td>\n",
       "    </tr>\n",
       "    <tr>\n",
       "      <th>261864</th>\n",
       "      <td>5.255.253.53</td>\n",
       "    </tr>\n",
       "    <tr>\n",
       "      <th>261865</th>\n",
       "      <td>5.255.253.53</td>\n",
       "    </tr>\n",
       "    <tr>\n",
       "      <th>261866</th>\n",
       "      <td>5.255.253.53</td>\n",
       "    </tr>\n",
       "    <tr>\n",
       "      <th>261867</th>\n",
       "      <td>74.86.158.107</td>\n",
       "    </tr>\n",
       "  </tbody>\n",
       "</table>\n",
       "</div>"
      ],
      "text/plain": [
       "                   ip\n",
       "261863   5.255.253.53\n",
       "261864   5.255.253.53\n",
       "261865   5.255.253.53\n",
       "261866   5.255.253.53\n",
       "261867  74.86.158.107"
      ]
     },
     "execution_count": 26,
     "metadata": {},
     "output_type": "execute_result"
    }
   ],
   "source": [
    "#seleccionamos la columna ip\n",
    "ip_selection = log_selection.iloc[:,[1]] \n",
    "ip_selection.tail()"
   ]
  },
  {
   "cell_type": "code",
   "execution_count": 27,
   "id": "cc63a72c",
   "metadata": {},
   "outputs": [
    {
     "data": {
      "text/plain": [
       "(247979, 1)"
      ]
     },
     "execution_count": 27,
     "metadata": {},
     "output_type": "execute_result"
    }
   ],
   "source": [
    "ip_selection.shape"
   ]
  },
  {
   "cell_type": "markdown",
   "id": "73c2bf34",
   "metadata": {},
   "source": [
    "## Primer intento\n"
   ]
  },
  {
   "cell_type": "code",
   "execution_count": 28,
   "id": "08181bdc",
   "metadata": {},
   "outputs": [
    {
     "data": {
      "text/html": [
       "<div>\n",
       "<style scoped>\n",
       "    .dataframe tbody tr th:only-of-type {\n",
       "        vertical-align: middle;\n",
       "    }\n",
       "\n",
       "    .dataframe tbody tr th {\n",
       "        vertical-align: top;\n",
       "    }\n",
       "\n",
       "    .dataframe thead th {\n",
       "        text-align: right;\n",
       "    }\n",
       "</style>\n",
       "<table border=\"1\" class=\"dataframe\">\n",
       "  <thead>\n",
       "    <tr style=\"text-align: right;\">\n",
       "      <th></th>\n",
       "      <th>ip</th>\n",
       "    </tr>\n",
       "  </thead>\n",
       "  <tbody>\n",
       "    <tr>\n",
       "      <th>22</th>\n",
       "      <td>66.249.76.216</td>\n",
       "    </tr>\n",
       "    <tr>\n",
       "      <th>23</th>\n",
       "      <td>66.249.76.216</td>\n",
       "    </tr>\n",
       "    <tr>\n",
       "      <th>24</th>\n",
       "      <td>66.249.76.216</td>\n",
       "    </tr>\n",
       "    <tr>\n",
       "      <th>25</th>\n",
       "      <td>66.249.76.216</td>\n",
       "    </tr>\n",
       "    <tr>\n",
       "      <th>26</th>\n",
       "      <td>66.249.76.216</td>\n",
       "    </tr>\n",
       "    <tr>\n",
       "      <th>...</th>\n",
       "      <td>...</td>\n",
       "    </tr>\n",
       "    <tr>\n",
       "      <th>261863</th>\n",
       "      <td>5.255.253.53</td>\n",
       "    </tr>\n",
       "    <tr>\n",
       "      <th>261864</th>\n",
       "      <td>5.255.253.53</td>\n",
       "    </tr>\n",
       "    <tr>\n",
       "      <th>261865</th>\n",
       "      <td>5.255.253.53</td>\n",
       "    </tr>\n",
       "    <tr>\n",
       "      <th>261866</th>\n",
       "      <td>5.255.253.53</td>\n",
       "    </tr>\n",
       "    <tr>\n",
       "      <th>261867</th>\n",
       "      <td>74.86.158.107</td>\n",
       "    </tr>\n",
       "  </tbody>\n",
       "</table>\n",
       "<p>247979 rows × 1 columns</p>\n",
       "</div>"
      ],
      "text/plain": [
       "                   ip\n",
       "22      66.249.76.216\n",
       "23      66.249.76.216\n",
       "24      66.249.76.216\n",
       "25      66.249.76.216\n",
       "26      66.249.76.216\n",
       "...               ...\n",
       "261863   5.255.253.53\n",
       "261864   5.255.253.53\n",
       "261865   5.255.253.53\n",
       "261866   5.255.253.53\n",
       "261867  74.86.158.107\n",
       "\n",
       "[247979 rows x 1 columns]"
      ]
     },
     "execution_count": 28,
     "metadata": {},
     "output_type": "execute_result"
    }
   ],
   "source": [
    "ip_selection"
   ]
  },
  {
   "cell_type": "code",
   "execution_count": 29,
   "id": "eb8b92d8",
   "metadata": {},
   "outputs": [
    {
     "data": {
      "text/html": [
       "<div>\n",
       "<style scoped>\n",
       "    .dataframe tbody tr th:only-of-type {\n",
       "        vertical-align: middle;\n",
       "    }\n",
       "\n",
       "    .dataframe tbody tr th {\n",
       "        vertical-align: top;\n",
       "    }\n",
       "\n",
       "    .dataframe thead th {\n",
       "        text-align: right;\n",
       "    }\n",
       "</style>\n",
       "<table border=\"1\" class=\"dataframe\">\n",
       "  <thead>\n",
       "    <tr style=\"text-align: right;\">\n",
       "      <th></th>\n",
       "      <th>ip</th>\n",
       "    </tr>\n",
       "  </thead>\n",
       "  <tbody>\n",
       "    <tr>\n",
       "      <th>0</th>\n",
       "      <td>66.249.76.216</td>\n",
       "    </tr>\n",
       "    <tr>\n",
       "      <th>1</th>\n",
       "      <td>5.255.253.53</td>\n",
       "    </tr>\n",
       "    <tr>\n",
       "      <th>2</th>\n",
       "      <td>157.55.35.112</td>\n",
       "    </tr>\n",
       "    <tr>\n",
       "      <th>3</th>\n",
       "      <td>193.111.141.116</td>\n",
       "    </tr>\n",
       "    <tr>\n",
       "      <th>4</th>\n",
       "      <td>5.10.83.71</td>\n",
       "    </tr>\n",
       "    <tr>\n",
       "      <th>...</th>\n",
       "      <td>...</td>\n",
       "    </tr>\n",
       "    <tr>\n",
       "      <th>2915</th>\n",
       "      <td>46.222.83.180</td>\n",
       "    </tr>\n",
       "    <tr>\n",
       "      <th>2916</th>\n",
       "      <td>79.155.78.117</td>\n",
       "    </tr>\n",
       "    <tr>\n",
       "      <th>2917</th>\n",
       "      <td>217.174.248.179</td>\n",
       "    </tr>\n",
       "    <tr>\n",
       "      <th>2918</th>\n",
       "      <td>188.135.173.80</td>\n",
       "    </tr>\n",
       "    <tr>\n",
       "      <th>2919</th>\n",
       "      <td>206.198.5.33</td>\n",
       "    </tr>\n",
       "  </tbody>\n",
       "</table>\n",
       "<p>2920 rows × 1 columns</p>\n",
       "</div>"
      ],
      "text/plain": [
       "                   ip\n",
       "0       66.249.76.216\n",
       "1        5.255.253.53\n",
       "2       157.55.35.112\n",
       "3     193.111.141.116\n",
       "4          5.10.83.71\n",
       "...               ...\n",
       "2915    46.222.83.180\n",
       "2916    79.155.78.117\n",
       "2917  217.174.248.179\n",
       "2918   188.135.173.80\n",
       "2919     206.198.5.33\n",
       "\n",
       "[2920 rows x 1 columns]"
      ]
     },
     "execution_count": 29,
     "metadata": {},
     "output_type": "execute_result"
    }
   ],
   "source": [
    "# existen ip repetidas dentro de la tabla\n",
    "# hacemos una tabla solo con las ip sin repetición (unique)\n",
    "data = {\"ip\": ip_selection.ip.unique()} \n",
    "#load data into a DataFrame object:\n",
    "ip_selectionok = pd.DataFrame(data)\n",
    "ip_selectionok \n",
    "# nuestra selección ha bajado de 247979 a 2920 ip con valores únicos\n",
    "# usaremos esta selección para la geolocalización ya que los intentos con un df más grande no termina de dar resultados"
   ]
  },
  {
   "cell_type": "code",
   "execution_count": 30,
   "id": "c027ec4a",
   "metadata": {},
   "outputs": [],
   "source": [
    "# definimos los parámetros que queremos importar\n",
    "parametros = 'lat,lon,country,city'\n",
    "data = {\"fields\":parametros}\n",
    "\n",
    "def geolocate(ip):\n",
    "     \n",
    "    ip_address = ip\n",
    "\n",
    "    # URL to send the request to\n",
    "    request_url = \"http://ip-api.com/json/\" + ip\n",
    "    # Send request and decode the result\n",
    "    response = requests.get(request_url)\n",
    "    try:    \n",
    "        result = response.content.decode()\n",
    "\n",
    "        # Convert this data into a dictionary\n",
    "        result  = json.loads(result)\n",
    "    except:\n",
    "        result = \"Error\"\n",
    "    return(result)"
   ]
  },
  {
   "cell_type": "code",
   "execution_count": 31,
   "id": "e63eee86",
   "metadata": {},
   "outputs": [
    {
     "data": {
      "text/plain": [
       "'46.222.83.180'"
      ]
     },
     "execution_count": 31,
     "metadata": {},
     "output_type": "execute_result"
    }
   ],
   "source": [
    "ip_selectionok.ip[2915]"
   ]
  },
  {
   "cell_type": "code",
   "execution_count": 32,
   "id": "ffe8ecec",
   "metadata": {},
   "outputs": [
    {
     "data": {
      "text/plain": [
       "'157.55.33.97'"
      ]
     },
     "execution_count": 32,
     "metadata": {},
     "output_type": "execute_result"
    }
   ],
   "source": [
    "# pasamos el row para que identifique el ip\n",
    "test_ip1 = str(ip_selection.ip[2915])\n",
    "test_ip1"
   ]
  },
  {
   "cell_type": "code",
   "execution_count": 33,
   "id": "8ede0778",
   "metadata": {},
   "outputs": [
    {
     "data": {
      "text/plain": [
       "{'status': 'success',\n",
       " 'country': 'United States',\n",
       " 'countryCode': 'US',\n",
       " 'region': 'NJ',\n",
       " 'regionName': 'New Jersey',\n",
       " 'city': 'Newark',\n",
       " 'zip': '07175',\n",
       " 'lat': 40.7357,\n",
       " 'lon': -74.1724,\n",
       " 'timezone': 'America/New_York',\n",
       " 'isp': 'Microsoft Corporation',\n",
       " 'org': 'Microsoft Corporation',\n",
       " 'as': 'AS8075 Microsoft Corporation',\n",
       " 'query': '157.55.33.97'}"
      ]
     },
     "execution_count": 33,
     "metadata": {},
     "output_type": "execute_result"
    }
   ],
   "source": [
    "# geolocalizamos el test_ip\n",
    "geoip1=geolocate(test_ip1)\n",
    "geoip1"
   ]
  },
  {
   "cell_type": "code",
   "execution_count": 34,
   "id": "64c266ba",
   "metadata": {},
   "outputs": [
    {
     "data": {
      "text/html": [
       "<div>\n",
       "<style scoped>\n",
       "    .dataframe tbody tr th:only-of-type {\n",
       "        vertical-align: middle;\n",
       "    }\n",
       "\n",
       "    .dataframe tbody tr th {\n",
       "        vertical-align: top;\n",
       "    }\n",
       "\n",
       "    .dataframe thead th {\n",
       "        text-align: right;\n",
       "    }\n",
       "</style>\n",
       "<table border=\"1\" class=\"dataframe\">\n",
       "  <thead>\n",
       "    <tr style=\"text-align: right;\">\n",
       "      <th></th>\n",
       "      <th>ip</th>\n",
       "    </tr>\n",
       "  </thead>\n",
       "  <tbody>\n",
       "    <tr>\n",
       "      <th>0</th>\n",
       "      <td>66.249.76.216</td>\n",
       "    </tr>\n",
       "    <tr>\n",
       "      <th>1</th>\n",
       "      <td>5.255.253.53</td>\n",
       "    </tr>\n",
       "    <tr>\n",
       "      <th>2</th>\n",
       "      <td>157.55.35.112</td>\n",
       "    </tr>\n",
       "    <tr>\n",
       "      <th>3</th>\n",
       "      <td>193.111.141.116</td>\n",
       "    </tr>\n",
       "    <tr>\n",
       "      <th>4</th>\n",
       "      <td>5.10.83.71</td>\n",
       "    </tr>\n",
       "  </tbody>\n",
       "</table>\n",
       "</div>"
      ],
      "text/plain": [
       "                ip\n",
       "0    66.249.76.216\n",
       "1     5.255.253.53\n",
       "2    157.55.35.112\n",
       "3  193.111.141.116\n",
       "4       5.10.83.71"
      ]
     },
     "execution_count": 34,
     "metadata": {},
     "output_type": "execute_result"
    }
   ],
   "source": [
    "ip_mini = ip_selectionok[0:101]\n",
    "ip_mini.head()"
   ]
  },
  {
   "cell_type": "code",
   "execution_count": 35,
   "id": "b8646b28",
   "metadata": {},
   "outputs": [
    {
     "name": "stderr",
     "output_type": "stream",
     "text": [
      "<ipython-input-35-87ff37119e6a>:1: SettingWithCopyWarning: \n",
      "A value is trying to be set on a copy of a slice from a DataFrame.\n",
      "Try using .loc[row_indexer,col_indexer] = value instead\n",
      "\n",
      "See the caveats in the documentation: https://pandas.pydata.org/pandas-docs/stable/user_guide/indexing.html#returning-a-view-versus-a-copy\n",
      "  ip_mini[\"geolocation\"] = ip_mini.apply(lambda x: geolocate(x['ip']),axis=1)\n"
     ]
    },
    {
     "data": {
      "text/html": [
       "<div>\n",
       "<style scoped>\n",
       "    .dataframe tbody tr th:only-of-type {\n",
       "        vertical-align: middle;\n",
       "    }\n",
       "\n",
       "    .dataframe tbody tr th {\n",
       "        vertical-align: top;\n",
       "    }\n",
       "\n",
       "    .dataframe thead th {\n",
       "        text-align: right;\n",
       "    }\n",
       "</style>\n",
       "<table border=\"1\" class=\"dataframe\">\n",
       "  <thead>\n",
       "    <tr style=\"text-align: right;\">\n",
       "      <th></th>\n",
       "      <th>ip</th>\n",
       "      <th>geolocation</th>\n",
       "    </tr>\n",
       "  </thead>\n",
       "  <tbody>\n",
       "    <tr>\n",
       "      <th>0</th>\n",
       "      <td>66.249.76.216</td>\n",
       "      <td>{'status': 'success', 'country': 'United State...</td>\n",
       "    </tr>\n",
       "    <tr>\n",
       "      <th>1</th>\n",
       "      <td>5.255.253.53</td>\n",
       "      <td>{'status': 'success', 'country': 'Russia', 'co...</td>\n",
       "    </tr>\n",
       "    <tr>\n",
       "      <th>2</th>\n",
       "      <td>157.55.35.112</td>\n",
       "      <td>{'status': 'success', 'country': 'United State...</td>\n",
       "    </tr>\n",
       "    <tr>\n",
       "      <th>3</th>\n",
       "      <td>193.111.141.116</td>\n",
       "      <td>{'status': 'success', 'country': 'Germany', 'c...</td>\n",
       "    </tr>\n",
       "    <tr>\n",
       "      <th>4</th>\n",
       "      <td>5.10.83.71</td>\n",
       "      <td>{'status': 'success', 'country': 'Netherlands'...</td>\n",
       "    </tr>\n",
       "  </tbody>\n",
       "</table>\n",
       "</div>"
      ],
      "text/plain": [
       "                ip                                        geolocation\n",
       "0    66.249.76.216  {'status': 'success', 'country': 'United State...\n",
       "1     5.255.253.53  {'status': 'success', 'country': 'Russia', 'co...\n",
       "2    157.55.35.112  {'status': 'success', 'country': 'United State...\n",
       "3  193.111.141.116  {'status': 'success', 'country': 'Germany', 'c...\n",
       "4       5.10.83.71  {'status': 'success', 'country': 'Netherlands'..."
      ]
     },
     "execution_count": 35,
     "metadata": {},
     "output_type": "execute_result"
    }
   ],
   "source": [
    "ip_mini[\"geolocation\"] = ip_mini.apply(lambda x: geolocate(x['ip']),axis=1)\n",
    "ip_mini.head()"
   ]
  },
  {
   "cell_type": "code",
   "execution_count": 36,
   "id": "11841ce1",
   "metadata": {},
   "outputs": [
    {
     "data": {
      "text/plain": [
       "ip             object\n",
       "geolocation    object\n",
       "dtype: object"
      ]
     },
     "execution_count": 36,
     "metadata": {},
     "output_type": "execute_result"
    }
   ],
   "source": [
    "ip_mini.dtypes"
   ]
  },
  {
   "cell_type": "code",
   "execution_count": 37,
   "id": "14a69551",
   "metadata": {},
   "outputs": [
    {
     "data": {
      "text/html": [
       "<div>\n",
       "<style scoped>\n",
       "    .dataframe tbody tr th:only-of-type {\n",
       "        vertical-align: middle;\n",
       "    }\n",
       "\n",
       "    .dataframe tbody tr th {\n",
       "        vertical-align: top;\n",
       "    }\n",
       "\n",
       "    .dataframe thead th {\n",
       "        text-align: right;\n",
       "    }\n",
       "</style>\n",
       "<table border=\"1\" class=\"dataframe\">\n",
       "  <thead>\n",
       "    <tr style=\"text-align: right;\">\n",
       "      <th></th>\n",
       "      <th>ip</th>\n",
       "      <th>geolocation</th>\n",
       "    </tr>\n",
       "  </thead>\n",
       "  <tbody>\n",
       "    <tr>\n",
       "      <th>0</th>\n",
       "      <td>66.249.76.216</td>\n",
       "      <td>{'status': 'success', 'country': 'United State...</td>\n",
       "    </tr>\n",
       "    <tr>\n",
       "      <th>1</th>\n",
       "      <td>5.255.253.53</td>\n",
       "      <td>{'status': 'success', 'country': 'Russia', 'co...</td>\n",
       "    </tr>\n",
       "    <tr>\n",
       "      <th>2</th>\n",
       "      <td>157.55.35.112</td>\n",
       "      <td>{'status': 'success', 'country': 'United State...</td>\n",
       "    </tr>\n",
       "    <tr>\n",
       "      <th>3</th>\n",
       "      <td>193.111.141.116</td>\n",
       "      <td>{'status': 'success', 'country': 'Germany', 'c...</td>\n",
       "    </tr>\n",
       "    <tr>\n",
       "      <th>4</th>\n",
       "      <td>5.10.83.71</td>\n",
       "      <td>{'status': 'success', 'country': 'Netherlands'...</td>\n",
       "    </tr>\n",
       "    <tr>\n",
       "      <th>5</th>\n",
       "      <td>180.76.5.223</td>\n",
       "      <td>{'status': 'success', 'country': 'China', 'cou...</td>\n",
       "    </tr>\n",
       "    <tr>\n",
       "      <th>6</th>\n",
       "      <td>180.76.6.148</td>\n",
       "      <td>{'status': 'success', 'country': 'China', 'cou...</td>\n",
       "    </tr>\n",
       "    <tr>\n",
       "      <th>7</th>\n",
       "      <td>180.76.5.188</td>\n",
       "      <td>{'status': 'success', 'country': 'China', 'cou...</td>\n",
       "    </tr>\n",
       "    <tr>\n",
       "      <th>8</th>\n",
       "      <td>180.76.6.135</td>\n",
       "      <td>{'status': 'success', 'country': 'China', 'cou...</td>\n",
       "    </tr>\n",
       "    <tr>\n",
       "      <th>9</th>\n",
       "      <td>180.76.6.44</td>\n",
       "      <td>{'status': 'success', 'country': 'China', 'cou...</td>\n",
       "    </tr>\n",
       "    <tr>\n",
       "      <th>10</th>\n",
       "      <td>180.76.5.172</td>\n",
       "      <td>{'status': 'success', 'country': 'China', 'cou...</td>\n",
       "    </tr>\n",
       "  </tbody>\n",
       "</table>\n",
       "</div>"
      ],
      "text/plain": [
       "                 ip                                        geolocation\n",
       "0     66.249.76.216  {'status': 'success', 'country': 'United State...\n",
       "1      5.255.253.53  {'status': 'success', 'country': 'Russia', 'co...\n",
       "2     157.55.35.112  {'status': 'success', 'country': 'United State...\n",
       "3   193.111.141.116  {'status': 'success', 'country': 'Germany', 'c...\n",
       "4        5.10.83.71  {'status': 'success', 'country': 'Netherlands'...\n",
       "5      180.76.5.223  {'status': 'success', 'country': 'China', 'cou...\n",
       "6      180.76.6.148  {'status': 'success', 'country': 'China', 'cou...\n",
       "7      180.76.5.188  {'status': 'success', 'country': 'China', 'cou...\n",
       "8      180.76.6.135  {'status': 'success', 'country': 'China', 'cou...\n",
       "9       180.76.6.44  {'status': 'success', 'country': 'China', 'cou...\n",
       "10     180.76.5.172  {'status': 'success', 'country': 'China', 'cou..."
      ]
     },
     "execution_count": 37,
     "metadata": {},
     "output_type": "execute_result"
    }
   ],
   "source": [
    "df = pd.DataFrame(ip_mini)\n",
    "df.head(11)"
   ]
  },
  {
   "cell_type": "code",
   "execution_count": 52,
   "id": "b53fb61e",
   "metadata": {},
   "outputs": [
    {
     "data": {
      "text/html": [
       "<div>\n",
       "<style scoped>\n",
       "    .dataframe tbody tr th:only-of-type {\n",
       "        vertical-align: middle;\n",
       "    }\n",
       "\n",
       "    .dataframe tbody tr th {\n",
       "        vertical-align: top;\n",
       "    }\n",
       "\n",
       "    .dataframe thead th {\n",
       "        text-align: right;\n",
       "    }\n",
       "</style>\n",
       "<table border=\"1\" class=\"dataframe\">\n",
       "  <thead>\n",
       "    <tr style=\"text-align: right;\">\n",
       "      <th></th>\n",
       "      <th>ip</th>\n",
       "      <th>0</th>\n",
       "      <th>as</th>\n",
       "      <th>city</th>\n",
       "      <th>country</th>\n",
       "      <th>countryCode</th>\n",
       "      <th>isp</th>\n",
       "      <th>lat</th>\n",
       "      <th>lon</th>\n",
       "      <th>org</th>\n",
       "      <th>query</th>\n",
       "      <th>region</th>\n",
       "      <th>regionName</th>\n",
       "      <th>status</th>\n",
       "      <th>timezone</th>\n",
       "      <th>zip</th>\n",
       "    </tr>\n",
       "  </thead>\n",
       "  <tbody>\n",
       "    <tr>\n",
       "      <th>0</th>\n",
       "      <td>66.249.76.216</td>\n",
       "      <td>NaN</td>\n",
       "      <td>AS15169 Google LLC</td>\n",
       "      <td>Mountain View</td>\n",
       "      <td>United States</td>\n",
       "      <td>US</td>\n",
       "      <td>Google LLC</td>\n",
       "      <td>37.4220</td>\n",
       "      <td>-122.0840</td>\n",
       "      <td>Google LLC</td>\n",
       "      <td>66.249.76.216</td>\n",
       "      <td>CA</td>\n",
       "      <td>California</td>\n",
       "      <td>success</td>\n",
       "      <td>America/Los_Angeles</td>\n",
       "      <td>94043</td>\n",
       "    </tr>\n",
       "    <tr>\n",
       "      <th>1</th>\n",
       "      <td>5.255.253.53</td>\n",
       "      <td>NaN</td>\n",
       "      <td>AS208722 Yandex Oy</td>\n",
       "      <td>Moscow</td>\n",
       "      <td>Russia</td>\n",
       "      <td>RU</td>\n",
       "      <td>Yandex enterprise network</td>\n",
       "      <td>55.7483</td>\n",
       "      <td>37.6171</td>\n",
       "      <td>Yandex LLC</td>\n",
       "      <td>5.255.253.53</td>\n",
       "      <td>MOW</td>\n",
       "      <td>Moscow</td>\n",
       "      <td>success</td>\n",
       "      <td>Europe/Moscow</td>\n",
       "      <td>127616</td>\n",
       "    </tr>\n",
       "    <tr>\n",
       "      <th>2</th>\n",
       "      <td>157.55.35.112</td>\n",
       "      <td>NaN</td>\n",
       "      <td>AS8075 Microsoft Corporation</td>\n",
       "      <td>Newark</td>\n",
       "      <td>United States</td>\n",
       "      <td>US</td>\n",
       "      <td>Microsoft Corporation</td>\n",
       "      <td>40.7357</td>\n",
       "      <td>-74.1724</td>\n",
       "      <td>Microsoft Corporation</td>\n",
       "      <td>157.55.35.112</td>\n",
       "      <td>NJ</td>\n",
       "      <td>New Jersey</td>\n",
       "      <td>success</td>\n",
       "      <td>America/New_York</td>\n",
       "      <td>07175</td>\n",
       "    </tr>\n",
       "    <tr>\n",
       "      <th>3</th>\n",
       "      <td>193.111.141.116</td>\n",
       "      <td>NaN</td>\n",
       "      <td></td>\n",
       "      <td>Düsseldorf</td>\n",
       "      <td>Germany</td>\n",
       "      <td>DE</td>\n",
       "      <td>Ripe NCC</td>\n",
       "      <td>51.2705</td>\n",
       "      <td>6.8144</td>\n",
       "      <td>Ripe NCC</td>\n",
       "      <td>193.111.141.116</td>\n",
       "      <td>NW</td>\n",
       "      <td>North Rhine-Westphalia</td>\n",
       "      <td>success</td>\n",
       "      <td>Europe/Berlin</td>\n",
       "      <td>40472</td>\n",
       "    </tr>\n",
       "    <tr>\n",
       "      <th>4</th>\n",
       "      <td>5.10.83.71</td>\n",
       "      <td>NaN</td>\n",
       "      <td>AS36351 SoftLayer Technologies Inc.</td>\n",
       "      <td>Amsterdam</td>\n",
       "      <td>Netherlands</td>\n",
       "      <td>NL</td>\n",
       "      <td>SoftLayer</td>\n",
       "      <td>52.3759</td>\n",
       "      <td>4.8975</td>\n",
       "      <td>Cognizant Technology Solutions - Demo Account</td>\n",
       "      <td>5.10.83.71</td>\n",
       "      <td>NH</td>\n",
       "      <td>North Holland</td>\n",
       "      <td>success</td>\n",
       "      <td>Europe/Amsterdam</td>\n",
       "      <td>1012</td>\n",
       "    </tr>\n",
       "  </tbody>\n",
       "</table>\n",
       "</div>"
      ],
      "text/plain": [
       "                ip    0                                   as           city  \\\n",
       "0    66.249.76.216  NaN                   AS15169 Google LLC  Mountain View   \n",
       "1     5.255.253.53  NaN                   AS208722 Yandex Oy         Moscow   \n",
       "2    157.55.35.112  NaN         AS8075 Microsoft Corporation         Newark   \n",
       "3  193.111.141.116  NaN                                          Düsseldorf   \n",
       "4       5.10.83.71  NaN  AS36351 SoftLayer Technologies Inc.      Amsterdam   \n",
       "\n",
       "         country countryCode                        isp      lat       lon  \\\n",
       "0  United States          US                 Google LLC  37.4220 -122.0840   \n",
       "1         Russia          RU  Yandex enterprise network  55.7483   37.6171   \n",
       "2  United States          US      Microsoft Corporation  40.7357  -74.1724   \n",
       "3        Germany          DE                   Ripe NCC  51.2705    6.8144   \n",
       "4    Netherlands          NL                  SoftLayer  52.3759    4.8975   \n",
       "\n",
       "                                             org            query region  \\\n",
       "0                                     Google LLC    66.249.76.216     CA   \n",
       "1                                     Yandex LLC     5.255.253.53    MOW   \n",
       "2                          Microsoft Corporation    157.55.35.112     NJ   \n",
       "3                                       Ripe NCC  193.111.141.116     NW   \n",
       "4  Cognizant Technology Solutions - Demo Account       5.10.83.71     NH   \n",
       "\n",
       "               regionName   status             timezone     zip  \n",
       "0              California  success  America/Los_Angeles   94043  \n",
       "1                  Moscow  success        Europe/Moscow  127616  \n",
       "2              New Jersey  success     America/New_York   07175  \n",
       "3  North Rhine-Westphalia  success        Europe/Berlin   40472  \n",
       "4           North Holland  success     Europe/Amsterdam    1012  "
      ]
     },
     "execution_count": 52,
     "metadata": {},
     "output_type": "execute_result"
    }
   ],
   "source": [
    "# expandir la columna geolocation\n",
    "df_final = pd.concat([df, df['geolocation'].apply(pd.Series)], axis = 1).drop('geolocation', axis = 1)\n",
    "df_final.head()"
   ]
  },
  {
   "cell_type": "code",
   "execution_count": 39,
   "id": "0e9b25e0",
   "metadata": {},
   "outputs": [
    {
     "data": {
      "text/plain": [
       "array(['United States', 'Russia', 'Germany', 'Netherlands', 'China',\n",
       "       'Spain', 'France', nan], dtype=object)"
      ]
     },
     "execution_count": 39,
     "metadata": {},
     "output_type": "execute_result"
    }
   ],
   "source": [
    "df_final.country.unique ()  # En nuestro df reducido, se ha podido identificar 7 ubicaciones y una sin identificar"
   ]
  },
  {
   "cell_type": "markdown",
   "id": "2e0ae242",
   "metadata": {},
   "source": [
    "## Exercici 3\n",
    "### Mostra'm la teva creativitat, Sorprèn-me fes un pas més enllà amb l'anàlisi anterior."
   ]
  },
  {
   "cell_type": "code",
   "execution_count": 41,
   "id": "2047911c",
   "metadata": {},
   "outputs": [
    {
     "data": {
      "image/png": "[encoded data removed]",
      "text/plain": [
       "<Figure size 720x504 with 2 Axes>"
      ]
     },
     "metadata": {
      "needs_background": "light"
     },
     "output_type": "display_data"
    }
   ],
   "source": [
    "df_final.plot(kind=\"scatter\", x=\"lon\", y=\"lat\",\n",
    "    s = df_final['lat'], label=\"ubication\",\n",
    "    c = \"lon\", cmap=plt.get_cmap(\"jet\"),\n",
    "    colorbar=True, alpha=0.4, figsize=(10,7),\n",
    ")\n",
    "plt.legend()\n",
    "plt.show()"
   ]
  },
  {
   "cell_type": "code",
   "execution_count": 96,
   "id": "733898cd",
   "metadata": {},
   "outputs": [],
   "source": [
    "# pasamos los gráficos a geopandas\n",
    "gdf = gpd.GeoDataFrame(\n",
    "    df, geometry=gpd.points_from_xy(df_final['lon'].astype('float32'), df_final['lat'].astype('float32')))"
   ]
  },
  {
   "cell_type": "code",
   "execution_count": 103,
   "id": "18a73905",
   "metadata": {},
   "outputs": [
    {
     "data": {
      "image/png": "[encoded data removed]",
      "text/plain": [
       "<Figure size 1080x1080 with 1 Axes>"
      ]
     },
     "metadata": {
      "needs_background": "light"
     },
     "output_type": "display_data"
    }
   ],
   "source": [
    "ax = world[['continent', 'geometry']].plot(\n",
    "    color='c', edgecolor='black', figsize=(15,15))\n",
    "gdf.plot(ax=ax, color='blue')\n",
    "\n",
    "plt.show()"
   ]
  }
 ],
 "metadata": {
  "kernelspec": {
   "display_name": "Python 3",
   "language": "python",
   "name": "python3"
  },
  "language_info": {
   "codemirror_mode": {
    "name": "ipython",
    "version": 3
   },
   "file_extension": ".py",
   "mimetype": "text/x-python",
   "name": "python",
   "nbconvert_exporter": "python",
   "pygments_lexer": "ipython3",
   "version": "3.8.8"
  },
  "latex_envs": {
   "LaTeX_envs_menu_present": true,
   "autoclose": false,
   "autocomplete": true,
   "bibliofile": "biblio.bib",
   "cite_by": "apalike",
   "current_citInitial": 1,
   "eqLabelWithNumbers": true,
   "eqNumInitial": 1,
   "hotkeys": {
    "equation": "Ctrl-E",
    "itemize": "Ctrl-I"
   },
   "labels_anchors": false,
   "latex_user_defs": false,
   "report_style_numbering": false,
   "user_envs_cfg": false
  }
 },
 "nbformat": 4,
 "nbformat_minor": 5
}
